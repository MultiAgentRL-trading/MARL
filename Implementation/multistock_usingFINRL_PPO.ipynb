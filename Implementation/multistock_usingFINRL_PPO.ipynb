{
  "nbformat": 4,
  "nbformat_minor": 0,
  "metadata": {
    "colab": {
      "name": "multistock_usingFINRL_PPO.ipynb",
      "provenance": [],
      "toc_visible": true
    },
    "kernelspec": {
      "name": "python3",
      "display_name": "Python 3"
    },
    "accelerator": "GPU"
  },
  "cells": [
    {
      "cell_type": "code",
      "metadata": {
        "id": "1FBUoO5IOhPN"
      },
      "source": [
        "import sys\n",
        "\n",
        "sys.path.append(\"..\")"
      ],
      "execution_count": 1,
      "outputs": []
    },
    {
      "cell_type": "code",
      "metadata": {
        "colab": {
          "base_uri": "https://localhost:8080/"
        },
        "id": "HGDyHqCePCRt",
        "outputId": "ab90ca80-f744-44d4-e360-559f6d64f71c"
      },
      "source": [
        "import pandas as pd\n",
        "print(pd.__version__)"
      ],
      "execution_count": 2,
      "outputs": [
        {
          "output_type": "stream",
          "text": [
            "1.1.5\n"
          ],
          "name": "stdout"
        }
      ]
    },
    {
      "cell_type": "code",
      "metadata": {
        "colab": {
          "base_uri": "https://localhost:8080/"
        },
        "id": "qAzfmX24PqDA",
        "outputId": "59df96fa-0c3a-4b06-e485-f52a753c2d1b"
      },
      "source": [
        "\n",
        "!git clone https://github.com/AI4Finance-LLC/FinRL-Library.git"
      ],
      "execution_count": 3,
      "outputs": [
        {
          "output_type": "stream",
          "text": [
            "Cloning into 'FinRL-Library'...\n",
            "remote: Enumerating objects: 2824, done.\u001b[K\n",
            "remote: Total 2824 (delta 0), reused 0 (delta 0), pack-reused 2824\u001b[K\n",
            "Receiving objects: 100% (2824/2824), 30.68 MiB | 34.71 MiB/s, done.\n",
            "Resolving deltas: 100% (1697/1697), done.\n"
          ],
          "name": "stdout"
        }
      ]
    },
    {
      "cell_type": "code",
      "metadata": {
        "colab": {
          "base_uri": "https://localhost:8080/"
        },
        "id": "V7z-rnH5PsDk",
        "outputId": "1fcd30ff-a509-4f2e-da5c-cafdc40f4897"
      },
      "source": [
        "%cd FinRL-Library/\n",
        "!pip install -r requirements.txt\n",
        "!pip install nest-asyncio"
      ],
      "execution_count": 4,
      "outputs": [
        {
          "output_type": "stream",
          "text": [
            "/content/FinRL-Library\n",
            "Requirement already satisfied: numpy in /usr/local/lib/python3.7/dist-packages (from -r requirements.txt (line 2)) (1.19.5)\n",
            "Requirement already satisfied: pandas>=1.1.5 in /usr/local/lib/python3.7/dist-packages (from -r requirements.txt (line 3)) (1.1.5)\n",
            "Collecting stockstats\n",
            "  Downloading https://files.pythonhosted.org/packages/32/41/d3828c5bc0a262cb3112a4024108a3b019c183fa3b3078bff34bf25abf91/stockstats-0.3.2-py2.py3-none-any.whl\n",
            "Collecting yfinance\n",
            "  Downloading https://files.pythonhosted.org/packages/7a/e8/b9d7104d3a4bf39924799067592d9e59119fcfc900a425a12e80a3123ec8/yfinance-0.1.55.tar.gz\n",
            "Requirement already satisfied: matplotlib in /usr/local/lib/python3.7/dist-packages (from -r requirements.txt (line 9)) (3.2.2)\n",
            "Requirement already satisfied: scikit-learn>=0.21.0 in /usr/local/lib/python3.7/dist-packages (from -r requirements.txt (line 12)) (0.22.2.post1)\n",
            "Requirement already satisfied: gym>=0.17 in /usr/local/lib/python3.7/dist-packages (from -r requirements.txt (line 13)) (0.17.3)\n",
            "Collecting stable-baselines3[extra]\n",
            "\u001b[?25l  Downloading https://files.pythonhosted.org/packages/f9/97/f6da6fcaa96934832c02acf95a32309cfa8646b010221f6c7a14bfcf40d0/stable_baselines3-0.11.1-py3-none-any.whl (152kB)\n",
            "\u001b[K     |████████████████████████████████| 153kB 26.9MB/s \n",
            "\u001b[?25hRequirement already satisfied: pytest in /usr/local/lib/python3.7/dist-packages (from -r requirements.txt (line 17)) (3.6.4)\n",
            "Requirement already satisfied: setuptools>=41.4.0 in /usr/local/lib/python3.7/dist-packages (from -r requirements.txt (line 20)) (54.0.0)\n",
            "Requirement already satisfied: wheel>=0.33.6 in /usr/local/lib/python3.7/dist-packages (from -r requirements.txt (line 21)) (0.36.2)\n",
            "Requirement already satisfied: pytz>=2017.2 in /usr/local/lib/python3.7/dist-packages (from pandas>=1.1.5->-r requirements.txt (line 3)) (2018.9)\n",
            "Requirement already satisfied: python-dateutil>=2.7.3 in /usr/local/lib/python3.7/dist-packages (from pandas>=1.1.5->-r requirements.txt (line 3)) (2.8.1)\n",
            "Collecting int-date>=0.1.7\n",
            "  Downloading https://files.pythonhosted.org/packages/43/27/31803df15173ab341fe7548c14154b54227dfd8f630daa09a1c6e7db52f7/int_date-0.1.8-py2.py3-none-any.whl\n",
            "Requirement already satisfied: requests>=2.20 in /usr/local/lib/python3.7/dist-packages (from yfinance->-r requirements.txt (line 5)) (2.23.0)\n",
            "Requirement already satisfied: multitasking>=0.0.7 in /usr/local/lib/python3.7/dist-packages (from yfinance->-r requirements.txt (line 5)) (0.0.9)\n",
            "Collecting lxml>=4.5.1\n",
            "\u001b[?25l  Downloading https://files.pythonhosted.org/packages/d2/88/b25778f17e5320c1c58f8c5060fb5b037288e162bd7554c30799e9ea90db/lxml-4.6.2-cp37-cp37m-manylinux1_x86_64.whl (5.5MB)\n",
            "\u001b[K     |████████████████████████████████| 5.5MB 45.1MB/s \n",
            "\u001b[?25hRequirement already satisfied: cycler>=0.10 in /usr/local/lib/python3.7/dist-packages (from matplotlib->-r requirements.txt (line 9)) (0.10.0)\n",
            "Requirement already satisfied: kiwisolver>=1.0.1 in /usr/local/lib/python3.7/dist-packages (from matplotlib->-r requirements.txt (line 9)) (1.3.1)\n",
            "Requirement already satisfied: pyparsing!=2.0.4,!=2.1.2,!=2.1.6,>=2.0.1 in /usr/local/lib/python3.7/dist-packages (from matplotlib->-r requirements.txt (line 9)) (2.4.7)\n",
            "Requirement already satisfied: scipy>=0.17.0 in /usr/local/lib/python3.7/dist-packages (from scikit-learn>=0.21.0->-r requirements.txt (line 12)) (1.4.1)\n",
            "Requirement already satisfied: joblib>=0.11 in /usr/local/lib/python3.7/dist-packages (from scikit-learn>=0.21.0->-r requirements.txt (line 12)) (1.0.1)\n",
            "Requirement already satisfied: cloudpickle<1.7.0,>=1.2.0 in /usr/local/lib/python3.7/dist-packages (from gym>=0.17->-r requirements.txt (line 13)) (1.3.0)\n",
            "Requirement already satisfied: pyglet<=1.5.0,>=1.4.0 in /usr/local/lib/python3.7/dist-packages (from gym>=0.17->-r requirements.txt (line 13)) (1.5.0)\n",
            "Requirement already satisfied: torch>=1.4.0 in /usr/local/lib/python3.7/dist-packages (from stable-baselines3[extra]->-r requirements.txt (line 14)) (1.7.1+cu101)\n",
            "Requirement already satisfied: atari-py~=0.2.0; extra == \"extra\" in /usr/local/lib/python3.7/dist-packages (from stable-baselines3[extra]->-r requirements.txt (line 14)) (0.2.6)\n",
            "Requirement already satisfied: opencv-python; extra == \"extra\" in /usr/local/lib/python3.7/dist-packages (from stable-baselines3[extra]->-r requirements.txt (line 14)) (4.1.2.30)\n",
            "Requirement already satisfied: pillow; extra == \"extra\" in /usr/local/lib/python3.7/dist-packages (from stable-baselines3[extra]->-r requirements.txt (line 14)) (7.0.0)\n",
            "Requirement already satisfied: psutil; extra == \"extra\" in /usr/local/lib/python3.7/dist-packages (from stable-baselines3[extra]->-r requirements.txt (line 14)) (5.4.8)\n",
            "Requirement already satisfied: tensorboard>=2.2.0; extra == \"extra\" in /usr/local/lib/python3.7/dist-packages (from stable-baselines3[extra]->-r requirements.txt (line 14)) (2.4.1)\n",
            "Requirement already satisfied: six>=1.10.0 in /usr/local/lib/python3.7/dist-packages (from pytest->-r requirements.txt (line 17)) (1.15.0)\n",
            "Requirement already satisfied: py>=1.5.0 in /usr/local/lib/python3.7/dist-packages (from pytest->-r requirements.txt (line 17)) (1.10.0)\n",
            "Requirement already satisfied: attrs>=17.4.0 in /usr/local/lib/python3.7/dist-packages (from pytest->-r requirements.txt (line 17)) (20.3.0)\n",
            "Requirement already satisfied: more-itertools>=4.0.0 in /usr/local/lib/python3.7/dist-packages (from pytest->-r requirements.txt (line 17)) (8.7.0)\n",
            "Requirement already satisfied: atomicwrites>=1.0 in /usr/local/lib/python3.7/dist-packages (from pytest->-r requirements.txt (line 17)) (1.4.0)\n",
            "Requirement already satisfied: pluggy<0.8,>=0.5 in /usr/local/lib/python3.7/dist-packages (from pytest->-r requirements.txt (line 17)) (0.7.1)\n",
            "Requirement already satisfied: chardet<4,>=3.0.2 in /usr/local/lib/python3.7/dist-packages (from requests>=2.20->yfinance->-r requirements.txt (line 5)) (3.0.4)\n",
            "Requirement already satisfied: urllib3!=1.25.0,!=1.25.1,<1.26,>=1.21.1 in /usr/local/lib/python3.7/dist-packages (from requests>=2.20->yfinance->-r requirements.txt (line 5)) (1.24.3)\n",
            "Requirement already satisfied: certifi>=2017.4.17 in /usr/local/lib/python3.7/dist-packages (from requests>=2.20->yfinance->-r requirements.txt (line 5)) (2020.12.5)\n",
            "Requirement already satisfied: idna<3,>=2.5 in /usr/local/lib/python3.7/dist-packages (from requests>=2.20->yfinance->-r requirements.txt (line 5)) (2.10)\n",
            "Requirement already satisfied: future in /usr/local/lib/python3.7/dist-packages (from pyglet<=1.5.0,>=1.4.0->gym>=0.17->-r requirements.txt (line 13)) (0.16.0)\n",
            "Requirement already satisfied: typing-extensions in /usr/local/lib/python3.7/dist-packages (from torch>=1.4.0->stable-baselines3[extra]->-r requirements.txt (line 14)) (3.7.4.3)\n",
            "Requirement already satisfied: protobuf>=3.6.0 in /usr/local/lib/python3.7/dist-packages (from tensorboard>=2.2.0; extra == \"extra\"->stable-baselines3[extra]->-r requirements.txt (line 14)) (3.12.4)\n",
            "Requirement already satisfied: grpcio>=1.24.3 in /usr/local/lib/python3.7/dist-packages (from tensorboard>=2.2.0; extra == \"extra\"->stable-baselines3[extra]->-r requirements.txt (line 14)) (1.32.0)\n",
            "Requirement already satisfied: werkzeug>=0.11.15 in /usr/local/lib/python3.7/dist-packages (from tensorboard>=2.2.0; extra == \"extra\"->stable-baselines3[extra]->-r requirements.txt (line 14)) (1.0.1)\n",
            "Requirement already satisfied: markdown>=2.6.8 in /usr/local/lib/python3.7/dist-packages (from tensorboard>=2.2.0; extra == \"extra\"->stable-baselines3[extra]->-r requirements.txt (line 14)) (3.3.4)\n",
            "Requirement already satisfied: google-auth-oauthlib<0.5,>=0.4.1 in /usr/local/lib/python3.7/dist-packages (from tensorboard>=2.2.0; extra == \"extra\"->stable-baselines3[extra]->-r requirements.txt (line 14)) (0.4.2)\n",
            "Requirement already satisfied: absl-py>=0.4 in /usr/local/lib/python3.7/dist-packages (from tensorboard>=2.2.0; extra == \"extra\"->stable-baselines3[extra]->-r requirements.txt (line 14)) (0.10.0)\n",
            "Requirement already satisfied: google-auth<2,>=1.6.3 in /usr/local/lib/python3.7/dist-packages (from tensorboard>=2.2.0; extra == \"extra\"->stable-baselines3[extra]->-r requirements.txt (line 14)) (1.27.0)\n",
            "Requirement already satisfied: tensorboard-plugin-wit>=1.6.0 in /usr/local/lib/python3.7/dist-packages (from tensorboard>=2.2.0; extra == \"extra\"->stable-baselines3[extra]->-r requirements.txt (line 14)) (1.8.0)\n",
            "Requirement already satisfied: importlib-metadata; python_version < \"3.8\" in /usr/local/lib/python3.7/dist-packages (from markdown>=2.6.8->tensorboard>=2.2.0; extra == \"extra\"->stable-baselines3[extra]->-r requirements.txt (line 14)) (3.7.0)\n",
            "Requirement already satisfied: requests-oauthlib>=0.7.0 in /usr/local/lib/python3.7/dist-packages (from google-auth-oauthlib<0.5,>=0.4.1->tensorboard>=2.2.0; extra == \"extra\"->stable-baselines3[extra]->-r requirements.txt (line 14)) (1.3.0)\n",
            "Requirement already satisfied: rsa<5,>=3.1.4; python_version >= \"3.6\" in /usr/local/lib/python3.7/dist-packages (from google-auth<2,>=1.6.3->tensorboard>=2.2.0; extra == \"extra\"->stable-baselines3[extra]->-r requirements.txt (line 14)) (4.7.2)\n",
            "Requirement already satisfied: cachetools<5.0,>=2.0.0 in /usr/local/lib/python3.7/dist-packages (from google-auth<2,>=1.6.3->tensorboard>=2.2.0; extra == \"extra\"->stable-baselines3[extra]->-r requirements.txt (line 14)) (4.2.1)\n",
            "Requirement already satisfied: pyasn1-modules>=0.2.1 in /usr/local/lib/python3.7/dist-packages (from google-auth<2,>=1.6.3->tensorboard>=2.2.0; extra == \"extra\"->stable-baselines3[extra]->-r requirements.txt (line 14)) (0.2.8)\n",
            "Requirement already satisfied: zipp>=0.5 in /usr/local/lib/python3.7/dist-packages (from importlib-metadata; python_version < \"3.8\"->markdown>=2.6.8->tensorboard>=2.2.0; extra == \"extra\"->stable-baselines3[extra]->-r requirements.txt (line 14)) (3.4.0)\n",
            "Requirement already satisfied: oauthlib>=3.0.0 in /usr/local/lib/python3.7/dist-packages (from requests-oauthlib>=0.7.0->google-auth-oauthlib<0.5,>=0.4.1->tensorboard>=2.2.0; extra == \"extra\"->stable-baselines3[extra]->-r requirements.txt (line 14)) (3.1.0)\n",
            "Requirement already satisfied: pyasn1>=0.1.3 in /usr/local/lib/python3.7/dist-packages (from rsa<5,>=3.1.4; python_version >= \"3.6\"->google-auth<2,>=1.6.3->tensorboard>=2.2.0; extra == \"extra\"->stable-baselines3[extra]->-r requirements.txt (line 14)) (0.4.8)\n",
            "Building wheels for collected packages: yfinance\n",
            "  Building wheel for yfinance (setup.py) ... \u001b[?25l\u001b[?25hdone\n",
            "  Created wheel for yfinance: filename=yfinance-0.1.55-py2.py3-none-any.whl size=22616 sha256=c31f0472f9f449a1346c9ebb59578d376636eb2a8388996f96628f920738819e\n",
            "  Stored in directory: /root/.cache/pip/wheels/04/98/cc/2702a4242d60bdc14f48b4557c427ded1fe92aedf257d4565c\n",
            "Successfully built yfinance\n",
            "Installing collected packages: int-date, stockstats, lxml, yfinance, stable-baselines3\n",
            "  Found existing installation: lxml 4.2.6\n",
            "    Uninstalling lxml-4.2.6:\n",
            "      Successfully uninstalled lxml-4.2.6\n",
            "Successfully installed int-date-0.1.8 lxml-4.6.2 stable-baselines3-0.11.1 stockstats-0.3.2 yfinance-0.1.55\n",
            "Requirement already satisfied: nest-asyncio in /usr/local/lib/python3.7/dist-packages (1.5.1)\n"
          ],
          "name": "stdout"
        }
      ]
    },
    {
      "cell_type": "markdown",
      "metadata": {
        "id": "DNF6S37IVTqU"
      },
      "source": [
        "/content/FinRL-Library"
      ]
    },
    {
      "cell_type": "code",
      "metadata": {
        "colab": {
          "base_uri": "https://localhost:8080/"
        },
        "id": "Myb1d-WIP267",
        "outputId": "b1c74381-4e5d-494a-8ede-2af17a4b60bd"
      },
      "source": [
        "%cd FinRL-Library/"
      ],
      "execution_count": 5,
      "outputs": [
        {
          "output_type": "stream",
          "text": [
            "[Errno 2] No such file or directory: 'FinRL-Library/'\n",
            "/content/FinRL-Library\n"
          ],
          "name": "stdout"
        }
      ]
    },
    {
      "cell_type": "code",
      "metadata": {
        "id": "q1Vg2lh3P9Cu"
      },
      "source": [
        "import nest_asyncio\n",
        "nest_asyncio.apply()"
      ],
      "execution_count": 6,
      "outputs": []
    },
    {
      "cell_type": "code",
      "metadata": {
        "colab": {
          "base_uri": "https://localhost:8080/"
        },
        "id": "J8R14S0gQG5S",
        "outputId": "514fd8de-c7a5-4200-e8ed-3158a77e536e"
      },
      "source": [
        "%pip install pyfolio "
      ],
      "execution_count": 7,
      "outputs": [
        {
          "output_type": "stream",
          "text": [
            "Collecting pyfolio\n",
            "\u001b[?25l  Downloading https://files.pythonhosted.org/packages/28/b4/99799b743c4619752f88b70354924132a2e9b82f4656fe7c55eaa9101392/pyfolio-0.9.2.tar.gz (91kB)\n",
            "\u001b[K     |████████████████████████████████| 92kB 8.9MB/s \n",
            "\u001b[?25hRequirement already satisfied: ipython>=3.2.3 in /usr/local/lib/python3.7/dist-packages (from pyfolio) (5.5.0)\n",
            "Requirement already satisfied: matplotlib>=1.4.0 in /usr/local/lib/python3.7/dist-packages (from pyfolio) (3.2.2)\n",
            "Requirement already satisfied: numpy>=1.11.1 in /usr/local/lib/python3.7/dist-packages (from pyfolio) (1.19.5)\n",
            "Requirement already satisfied: pandas>=0.18.1 in /usr/local/lib/python3.7/dist-packages (from pyfolio) (1.1.5)\n",
            "Requirement already satisfied: pytz>=2014.10 in /usr/local/lib/python3.7/dist-packages (from pyfolio) (2018.9)\n",
            "Requirement already satisfied: scipy>=0.14.0 in /usr/local/lib/python3.7/dist-packages (from pyfolio) (1.4.1)\n",
            "Requirement already satisfied: scikit-learn>=0.16.1 in /usr/local/lib/python3.7/dist-packages (from pyfolio) (0.22.2.post1)\n",
            "Requirement already satisfied: seaborn>=0.7.1 in /usr/local/lib/python3.7/dist-packages (from pyfolio) (0.11.1)\n",
            "Collecting empyrical>=0.5.0\n",
            "\u001b[?25l  Downloading https://files.pythonhosted.org/packages/74/43/1b997c21411c6ab7c96dc034e160198272c7a785aeea7654c9bcf98bec83/empyrical-0.5.5.tar.gz (52kB)\n",
            "\u001b[K     |████████████████████████████████| 61kB 9.9MB/s \n",
            "\u001b[?25hRequirement already satisfied: simplegeneric>0.8 in /usr/local/lib/python3.7/dist-packages (from ipython>=3.2.3->pyfolio) (0.8.1)\n",
            "Requirement already satisfied: pexpect; sys_platform != \"win32\" in /usr/local/lib/python3.7/dist-packages (from ipython>=3.2.3->pyfolio) (4.8.0)\n",
            "Requirement already satisfied: pygments in /usr/local/lib/python3.7/dist-packages (from ipython>=3.2.3->pyfolio) (2.6.1)\n",
            "Requirement already satisfied: setuptools>=18.5 in /usr/local/lib/python3.7/dist-packages (from ipython>=3.2.3->pyfolio) (54.0.0)\n",
            "Requirement already satisfied: prompt-toolkit<2.0.0,>=1.0.4 in /usr/local/lib/python3.7/dist-packages (from ipython>=3.2.3->pyfolio) (1.0.18)\n",
            "Requirement already satisfied: decorator in /usr/local/lib/python3.7/dist-packages (from ipython>=3.2.3->pyfolio) (4.4.2)\n",
            "Requirement already satisfied: pickleshare in /usr/local/lib/python3.7/dist-packages (from ipython>=3.2.3->pyfolio) (0.7.5)\n",
            "Requirement already satisfied: traitlets>=4.2 in /usr/local/lib/python3.7/dist-packages (from ipython>=3.2.3->pyfolio) (5.0.5)\n",
            "Requirement already satisfied: python-dateutil>=2.1 in /usr/local/lib/python3.7/dist-packages (from matplotlib>=1.4.0->pyfolio) (2.8.1)\n",
            "Requirement already satisfied: cycler>=0.10 in /usr/local/lib/python3.7/dist-packages (from matplotlib>=1.4.0->pyfolio) (0.10.0)\n",
            "Requirement already satisfied: kiwisolver>=1.0.1 in /usr/local/lib/python3.7/dist-packages (from matplotlib>=1.4.0->pyfolio) (1.3.1)\n",
            "Requirement already satisfied: pyparsing!=2.0.4,!=2.1.2,!=2.1.6,>=2.0.1 in /usr/local/lib/python3.7/dist-packages (from matplotlib>=1.4.0->pyfolio) (2.4.7)\n",
            "Requirement already satisfied: joblib>=0.11 in /usr/local/lib/python3.7/dist-packages (from scikit-learn>=0.16.1->pyfolio) (1.0.1)\n",
            "Requirement already satisfied: pandas-datareader>=0.2 in /usr/local/lib/python3.7/dist-packages (from empyrical>=0.5.0->pyfolio) (0.9.0)\n",
            "Requirement already satisfied: ptyprocess>=0.5 in /usr/local/lib/python3.7/dist-packages (from pexpect; sys_platform != \"win32\"->ipython>=3.2.3->pyfolio) (0.7.0)\n",
            "Requirement already satisfied: wcwidth in /usr/local/lib/python3.7/dist-packages (from prompt-toolkit<2.0.0,>=1.0.4->ipython>=3.2.3->pyfolio) (0.2.5)\n",
            "Requirement already satisfied: six>=1.9.0 in /usr/local/lib/python3.7/dist-packages (from prompt-toolkit<2.0.0,>=1.0.4->ipython>=3.2.3->pyfolio) (1.15.0)\n",
            "Requirement already satisfied: ipython-genutils in /usr/local/lib/python3.7/dist-packages (from traitlets>=4.2->ipython>=3.2.3->pyfolio) (0.2.0)\n",
            "Requirement already satisfied: requests>=2.19.0 in /usr/local/lib/python3.7/dist-packages (from pandas-datareader>=0.2->empyrical>=0.5.0->pyfolio) (2.23.0)\n",
            "Requirement already satisfied: lxml in /usr/local/lib/python3.7/dist-packages (from pandas-datareader>=0.2->empyrical>=0.5.0->pyfolio) (4.6.2)\n",
            "Requirement already satisfied: chardet<4,>=3.0.2 in /usr/local/lib/python3.7/dist-packages (from requests>=2.19.0->pandas-datareader>=0.2->empyrical>=0.5.0->pyfolio) (3.0.4)\n",
            "Requirement already satisfied: urllib3!=1.25.0,!=1.25.1,<1.26,>=1.21.1 in /usr/local/lib/python3.7/dist-packages (from requests>=2.19.0->pandas-datareader>=0.2->empyrical>=0.5.0->pyfolio) (1.24.3)\n",
            "Requirement already satisfied: idna<3,>=2.5 in /usr/local/lib/python3.7/dist-packages (from requests>=2.19.0->pandas-datareader>=0.2->empyrical>=0.5.0->pyfolio) (2.10)\n",
            "Requirement already satisfied: certifi>=2017.4.17 in /usr/local/lib/python3.7/dist-packages (from requests>=2.19.0->pandas-datareader>=0.2->empyrical>=0.5.0->pyfolio) (2020.12.5)\n",
            "Building wheels for collected packages: pyfolio, empyrical\n",
            "  Building wheel for pyfolio (setup.py) ... \u001b[?25l\u001b[?25hdone\n",
            "  Created wheel for pyfolio: filename=pyfolio-0.9.2-cp37-none-any.whl size=88667 sha256=90956bc8d294e7d394106ad76664ceb9a163d0ba108b46a358997dbf6b311c81\n",
            "  Stored in directory: /root/.cache/pip/wheels/0d/a8/7d/ac33fe6bf6f3db370291c9de303460d00b8f97cc40a1d80f72\n",
            "  Building wheel for empyrical (setup.py) ... \u001b[?25l\u001b[?25hdone\n",
            "  Created wheel for empyrical: filename=empyrical-0.5.5-cp37-none-any.whl size=39764 sha256=fc7008c8d7811932a279f8b350ab456417f50ae43d8134b7cf227edc75f7738d\n",
            "  Stored in directory: /root/.cache/pip/wheels/ea/b2/c8/6769d8444d2f2e608fae2641833110668d0ffd1abeb2e9f3fc\n",
            "Successfully built pyfolio empyrical\n",
            "Installing collected packages: empyrical, pyfolio\n",
            "Successfully installed empyrical-0.5.5 pyfolio-0.9.2\n"
          ],
          "name": "stdout"
        }
      ]
    },
    {
      "cell_type": "code",
      "metadata": {
        "colab": {
          "base_uri": "https://localhost:8080/"
        },
        "id": "FVgtP1K7P-wj",
        "outputId": "3695bb81-2e57-4cd9-8fb9-b6ae0dee5da2"
      },
      "source": [
        "import pandas as pd\n",
        "import numpy as np\n",
        "import matplotlib\n",
        "import matplotlib.pyplot as plt\n",
        "# matplotlib.use('Agg')\n",
        "import datetime\n",
        "\n",
        "%matplotlib inline\n",
        "from finrl.config import config\n",
        "from finrl.marketdata.yahoodownloader import YahooDownloader\n",
        "from finrl.preprocessing.preprocessors import FeatureEngineer\n",
        "from finrl.preprocessing.data import data_split\n",
        "from finrl.env.env_stocktrading import StockTradingEnv\n",
        "from finrl.model.models import DRLAgent\n",
        "from finrl.trade.backtest import backtest_stats, backtest_plot, get_daily_return, get_baseline\n",
        "\n",
        "from pprint import pprint\n",
        "\n",
        "import sys\n",
        "sys.path.append(\"../FinRL-Library\")\n",
        "\n",
        "import itertools"
      ],
      "execution_count": 8,
      "outputs": [
        {
          "output_type": "stream",
          "text": [
            "/usr/local/lib/python3.7/dist-packages/pyfolio/pos.py:27: UserWarning: Module \"zipline.assets\" not found; mutltipliers will not be applied to position notionals.\n",
            "  'Module \"zipline.assets\" not found; mutltipliers will not be applied' +\n"
          ],
          "name": "stderr"
        }
      ]
    },
    {
      "cell_type": "code",
      "metadata": {
        "id": "rzel5mmdQZVS"
      },
      "source": [
        "import os\n",
        "if not os.path.exists(\"./\" + config.DATA_SAVE_DIR):\n",
        "    os.makedirs(\"./\" + config.DATA_SAVE_DIR)\n",
        "if not os.path.exists(\"./\" + config.TRAINED_MODEL_DIR):\n",
        "    os.makedirs(\"./\" + config.TRAINED_MODEL_DIR)\n",
        "if not os.path.exists(\"./\" + config.TENSORBOARD_LOG_DIR):\n",
        "    os.makedirs(\"./\" + config.TENSORBOARD_LOG_DIR)\n",
        "if not os.path.exists(\"./\" + config.RESULTS_DIR):\n",
        "    os.makedirs(\"./\" + config.RESULTS_DIR)"
      ],
      "execution_count": 9,
      "outputs": []
    },
    {
      "cell_type": "code",
      "metadata": {
        "colab": {
          "base_uri": "https://localhost:8080/",
          "height": 667
        },
        "id": "IVP28kLYQ0fI",
        "outputId": "327c5421-6348-4c9b-8408-abeab333600b"
      },
      "source": [
        "!pip install -U ipython"
      ],
      "execution_count": 10,
      "outputs": [
        {
          "output_type": "stream",
          "text": [
            "Collecting ipython\n",
            "\u001b[?25l  Downloading https://files.pythonhosted.org/packages/3b/43/6dbd0610550708fc418ad027fda97b5f415da9053749641654fdacfec93f/ipython-7.21.0-py3-none-any.whl (784kB)\n",
            "\u001b[K     |████████████████████████████████| 788kB 17.9MB/s \n",
            "\u001b[?25hRequirement already satisfied, skipping upgrade: traitlets>=4.2 in /usr/local/lib/python3.7/dist-packages (from ipython) (5.0.5)\n",
            "Requirement already satisfied, skipping upgrade: backcall in /usr/local/lib/python3.7/dist-packages (from ipython) (0.2.0)\n",
            "Requirement already satisfied, skipping upgrade: pexpect>4.3; sys_platform != \"win32\" in /usr/local/lib/python3.7/dist-packages (from ipython) (4.8.0)\n",
            "Requirement already satisfied, skipping upgrade: jedi>=0.16 in /usr/local/lib/python3.7/dist-packages (from ipython) (0.18.0)\n",
            "Collecting prompt-toolkit!=3.0.0,!=3.0.1,<3.1.0,>=2.0.0\n",
            "\u001b[?25l  Downloading https://files.pythonhosted.org/packages/a6/0b/c6de29441b29f8b54d5bbe29a8b223de6e400714ff50e85541bd4c783421/prompt_toolkit-3.0.16-py3-none-any.whl (366kB)\n",
            "\u001b[K     |████████████████████████████████| 368kB 50.1MB/s \n",
            "\u001b[?25hRequirement already satisfied, skipping upgrade: pickleshare in /usr/local/lib/python3.7/dist-packages (from ipython) (0.7.5)\n",
            "Requirement already satisfied, skipping upgrade: setuptools>=18.5 in /usr/local/lib/python3.7/dist-packages (from ipython) (54.0.0)\n",
            "Requirement already satisfied, skipping upgrade: decorator in /usr/local/lib/python3.7/dist-packages (from ipython) (4.4.2)\n",
            "Requirement already satisfied, skipping upgrade: pygments in /usr/local/lib/python3.7/dist-packages (from ipython) (2.6.1)\n",
            "Requirement already satisfied, skipping upgrade: ipython-genutils in /usr/local/lib/python3.7/dist-packages (from traitlets>=4.2->ipython) (0.2.0)\n",
            "Requirement already satisfied, skipping upgrade: ptyprocess>=0.5 in /usr/local/lib/python3.7/dist-packages (from pexpect>4.3; sys_platform != \"win32\"->ipython) (0.7.0)\n",
            "Requirement already satisfied, skipping upgrade: parso<0.9.0,>=0.8.0 in /usr/local/lib/python3.7/dist-packages (from jedi>=0.16->ipython) (0.8.1)\n",
            "Requirement already satisfied, skipping upgrade: wcwidth in /usr/local/lib/python3.7/dist-packages (from prompt-toolkit!=3.0.0,!=3.0.1,<3.1.0,>=2.0.0->ipython) (0.2.5)\n",
            "\u001b[31mERROR: jupyter-console 5.2.0 has requirement prompt-toolkit<2.0.0,>=1.0.0, but you'll have prompt-toolkit 3.0.16 which is incompatible.\u001b[0m\n",
            "\u001b[31mERROR: google-colab 1.0.0 has requirement ipython~=5.5.0, but you'll have ipython 7.21.0 which is incompatible.\u001b[0m\n",
            "Installing collected packages: prompt-toolkit, ipython\n",
            "  Found existing installation: prompt-toolkit 1.0.18\n",
            "    Uninstalling prompt-toolkit-1.0.18:\n",
            "      Successfully uninstalled prompt-toolkit-1.0.18\n",
            "  Found existing installation: ipython 5.5.0\n",
            "    Uninstalling ipython-5.5.0:\n",
            "      Successfully uninstalled ipython-5.5.0\n",
            "Successfully installed ipython-7.21.0 prompt-toolkit-3.0.16\n"
          ],
          "name": "stdout"
        },
        {
          "output_type": "display_data",
          "data": {
            "application/vnd.colab-display-data+json": {
              "pip_warning": {
                "packages": [
                  "IPython",
                  "prompt_toolkit"
                ]
              }
            }
          },
          "metadata": {
            "tags": []
          }
        }
      ]
    },
    {
      "cell_type": "code",
      "metadata": {
        "colab": {
          "base_uri": "https://localhost:8080/",
          "height": 1000
        },
        "id": "pvgK5NOHQ6uS",
        "outputId": "88435417-cb6c-4079-ff9c-bf377acde8ba"
      },
      "source": [
        "!pip install finrl"
      ],
      "execution_count": 11,
      "outputs": [
        {
          "output_type": "stream",
          "text": [
            "Collecting finrl\n",
            "  Downloading https://files.pythonhosted.org/packages/5f/9d/8c62bfcfcb02a26810b2c0e76f534a9cfd1fac02c7819d1c7d6a4c78809b/finrl-0.3.0-py3-none-any.whl\n",
            "Requirement already satisfied: yfinance in /usr/local/lib/python3.7/dist-packages (from finrl) (0.1.55)\n",
            "Requirement already satisfied: scikit-learn>=0.21.0 in /usr/local/lib/python3.7/dist-packages (from finrl) (0.22.2.post1)\n",
            "Requirement already satisfied: wheel>=0.33.6 in /usr/local/lib/python3.7/dist-packages (from finrl) (0.36.2)\n",
            "Requirement already satisfied: gym>=0.17 in /usr/local/lib/python3.7/dist-packages (from finrl) (0.17.3)\n",
            "Requirement already satisfied: pyfolio in /usr/local/lib/python3.7/dist-packages (from finrl) (0.9.2)\n",
            "Requirement already satisfied: stockstats in /usr/local/lib/python3.7/dist-packages (from finrl) (0.3.2)\n",
            "Requirement already satisfied: setuptools>=41.4.0 in /usr/local/lib/python3.7/dist-packages (from finrl) (54.0.0)\n",
            "Requirement already satisfied: numpy in /usr/local/lib/python3.7/dist-packages (from finrl) (1.19.5)\n",
            "Requirement already satisfied: matplotlib in /usr/local/lib/python3.7/dist-packages (from finrl) (3.2.2)\n",
            "Requirement already satisfied: stable-baselines3[extra] in /usr/local/lib/python3.7/dist-packages (from finrl) (0.11.1)\n",
            "Requirement already satisfied: pytest in /usr/local/lib/python3.7/dist-packages (from finrl) (3.6.4)\n",
            "Requirement already satisfied: pandas>=1.1.5 in /usr/local/lib/python3.7/dist-packages (from finrl) (1.1.5)\n",
            "Requirement already satisfied: requests>=2.20 in /usr/local/lib/python3.7/dist-packages (from yfinance->finrl) (2.23.0)\n",
            "Requirement already satisfied: lxml>=4.5.1 in /usr/local/lib/python3.7/dist-packages (from yfinance->finrl) (4.6.2)\n",
            "Requirement already satisfied: multitasking>=0.0.7 in /usr/local/lib/python3.7/dist-packages (from yfinance->finrl) (0.0.9)\n",
            "Requirement already satisfied: joblib>=0.11 in /usr/local/lib/python3.7/dist-packages (from scikit-learn>=0.21.0->finrl) (1.0.1)\n",
            "Requirement already satisfied: scipy>=0.17.0 in /usr/local/lib/python3.7/dist-packages (from scikit-learn>=0.21.0->finrl) (1.4.1)\n",
            "Requirement already satisfied: cloudpickle<1.7.0,>=1.2.0 in /usr/local/lib/python3.7/dist-packages (from gym>=0.17->finrl) (1.3.0)\n",
            "Requirement already satisfied: pyglet<=1.5.0,>=1.4.0 in /usr/local/lib/python3.7/dist-packages (from gym>=0.17->finrl) (1.5.0)\n",
            "Requirement already satisfied: empyrical>=0.5.0 in /usr/local/lib/python3.7/dist-packages (from pyfolio->finrl) (0.5.5)\n",
            "Requirement already satisfied: pytz>=2014.10 in /usr/local/lib/python3.7/dist-packages (from pyfolio->finrl) (2018.9)\n",
            "Requirement already satisfied: ipython>=3.2.3 in /usr/local/lib/python3.7/dist-packages (from pyfolio->finrl) (7.21.0)\n",
            "Requirement already satisfied: seaborn>=0.7.1 in /usr/local/lib/python3.7/dist-packages (from pyfolio->finrl) (0.11.1)\n",
            "Requirement already satisfied: int-date>=0.1.7 in /usr/local/lib/python3.7/dist-packages (from stockstats->finrl) (0.1.8)\n",
            "Requirement already satisfied: pyparsing!=2.0.4,!=2.1.2,!=2.1.6,>=2.0.1 in /usr/local/lib/python3.7/dist-packages (from matplotlib->finrl) (2.4.7)\n",
            "Requirement already satisfied: python-dateutil>=2.1 in /usr/local/lib/python3.7/dist-packages (from matplotlib->finrl) (2.8.1)\n",
            "Requirement already satisfied: cycler>=0.10 in /usr/local/lib/python3.7/dist-packages (from matplotlib->finrl) (0.10.0)\n",
            "Requirement already satisfied: kiwisolver>=1.0.1 in /usr/local/lib/python3.7/dist-packages (from matplotlib->finrl) (1.3.1)\n",
            "Requirement already satisfied: torch>=1.4.0 in /usr/local/lib/python3.7/dist-packages (from stable-baselines3[extra]->finrl) (1.7.1+cu101)\n",
            "Requirement already satisfied: tensorboard>=2.2.0; extra == \"extra\" in /usr/local/lib/python3.7/dist-packages (from stable-baselines3[extra]->finrl) (2.4.1)\n",
            "Requirement already satisfied: psutil; extra == \"extra\" in /usr/local/lib/python3.7/dist-packages (from stable-baselines3[extra]->finrl) (5.4.8)\n",
            "Requirement already satisfied: opencv-python; extra == \"extra\" in /usr/local/lib/python3.7/dist-packages (from stable-baselines3[extra]->finrl) (4.1.2.30)\n",
            "Requirement already satisfied: pillow; extra == \"extra\" in /usr/local/lib/python3.7/dist-packages (from stable-baselines3[extra]->finrl) (7.0.0)\n",
            "Requirement already satisfied: atari-py~=0.2.0; extra == \"extra\" in /usr/local/lib/python3.7/dist-packages (from stable-baselines3[extra]->finrl) (0.2.6)\n",
            "Requirement already satisfied: pluggy<0.8,>=0.5 in /usr/local/lib/python3.7/dist-packages (from pytest->finrl) (0.7.1)\n",
            "Requirement already satisfied: more-itertools>=4.0.0 in /usr/local/lib/python3.7/dist-packages (from pytest->finrl) (8.7.0)\n",
            "Requirement already satisfied: six>=1.10.0 in /usr/local/lib/python3.7/dist-packages (from pytest->finrl) (1.15.0)\n",
            "Requirement already satisfied: py>=1.5.0 in /usr/local/lib/python3.7/dist-packages (from pytest->finrl) (1.10.0)\n",
            "Requirement already satisfied: attrs>=17.4.0 in /usr/local/lib/python3.7/dist-packages (from pytest->finrl) (20.3.0)\n",
            "Requirement already satisfied: atomicwrites>=1.0 in /usr/local/lib/python3.7/dist-packages (from pytest->finrl) (1.4.0)\n",
            "Requirement already satisfied: chardet<4,>=3.0.2 in /usr/local/lib/python3.7/dist-packages (from requests>=2.20->yfinance->finrl) (3.0.4)\n",
            "Requirement already satisfied: idna<3,>=2.5 in /usr/local/lib/python3.7/dist-packages (from requests>=2.20->yfinance->finrl) (2.10)\n",
            "Requirement already satisfied: certifi>=2017.4.17 in /usr/local/lib/python3.7/dist-packages (from requests>=2.20->yfinance->finrl) (2020.12.5)\n",
            "Requirement already satisfied: urllib3!=1.25.0,!=1.25.1,<1.26,>=1.21.1 in /usr/local/lib/python3.7/dist-packages (from requests>=2.20->yfinance->finrl) (1.24.3)\n",
            "Requirement already satisfied: future in /usr/local/lib/python3.7/dist-packages (from pyglet<=1.5.0,>=1.4.0->gym>=0.17->finrl) (0.16.0)\n",
            "Requirement already satisfied: pandas-datareader>=0.2 in /usr/local/lib/python3.7/dist-packages (from empyrical>=0.5.0->pyfolio->finrl) (0.9.0)\n",
            "Requirement already satisfied: jedi>=0.16 in /usr/local/lib/python3.7/dist-packages (from ipython>=3.2.3->pyfolio->finrl) (0.18.0)\n",
            "Requirement already satisfied: decorator in /usr/local/lib/python3.7/dist-packages (from ipython>=3.2.3->pyfolio->finrl) (4.4.2)\n",
            "Requirement already satisfied: traitlets>=4.2 in /usr/local/lib/python3.7/dist-packages (from ipython>=3.2.3->pyfolio->finrl) (5.0.5)\n",
            "Requirement already satisfied: pexpect>4.3; sys_platform != \"win32\" in /usr/local/lib/python3.7/dist-packages (from ipython>=3.2.3->pyfolio->finrl) (4.8.0)\n",
            "Requirement already satisfied: backcall in /usr/local/lib/python3.7/dist-packages (from ipython>=3.2.3->pyfolio->finrl) (0.2.0)\n",
            "Requirement already satisfied: pygments in /usr/local/lib/python3.7/dist-packages (from ipython>=3.2.3->pyfolio->finrl) (2.6.1)\n",
            "Requirement already satisfied: pickleshare in /usr/local/lib/python3.7/dist-packages (from ipython>=3.2.3->pyfolio->finrl) (0.7.5)\n",
            "Requirement already satisfied: prompt-toolkit!=3.0.0,!=3.0.1,<3.1.0,>=2.0.0 in /usr/local/lib/python3.7/dist-packages (from ipython>=3.2.3->pyfolio->finrl) (3.0.16)\n",
            "Requirement already satisfied: typing-extensions in /usr/local/lib/python3.7/dist-packages (from torch>=1.4.0->stable-baselines3[extra]->finrl) (3.7.4.3)\n",
            "Requirement already satisfied: protobuf>=3.6.0 in /usr/local/lib/python3.7/dist-packages (from tensorboard>=2.2.0; extra == \"extra\"->stable-baselines3[extra]->finrl) (3.12.4)\n",
            "Requirement already satisfied: google-auth<2,>=1.6.3 in /usr/local/lib/python3.7/dist-packages (from tensorboard>=2.2.0; extra == \"extra\"->stable-baselines3[extra]->finrl) (1.27.0)\n",
            "Requirement already satisfied: google-auth-oauthlib<0.5,>=0.4.1 in /usr/local/lib/python3.7/dist-packages (from tensorboard>=2.2.0; extra == \"extra\"->stable-baselines3[extra]->finrl) (0.4.2)\n",
            "Requirement already satisfied: markdown>=2.6.8 in /usr/local/lib/python3.7/dist-packages (from tensorboard>=2.2.0; extra == \"extra\"->stable-baselines3[extra]->finrl) (3.3.4)\n",
            "Requirement already satisfied: grpcio>=1.24.3 in /usr/local/lib/python3.7/dist-packages (from tensorboard>=2.2.0; extra == \"extra\"->stable-baselines3[extra]->finrl) (1.32.0)\n",
            "Requirement already satisfied: absl-py>=0.4 in /usr/local/lib/python3.7/dist-packages (from tensorboard>=2.2.0; extra == \"extra\"->stable-baselines3[extra]->finrl) (0.10.0)\n",
            "Requirement already satisfied: tensorboard-plugin-wit>=1.6.0 in /usr/local/lib/python3.7/dist-packages (from tensorboard>=2.2.0; extra == \"extra\"->stable-baselines3[extra]->finrl) (1.8.0)\n",
            "Requirement already satisfied: werkzeug>=0.11.15 in /usr/local/lib/python3.7/dist-packages (from tensorboard>=2.2.0; extra == \"extra\"->stable-baselines3[extra]->finrl) (1.0.1)\n",
            "Requirement already satisfied: parso<0.9.0,>=0.8.0 in /usr/local/lib/python3.7/dist-packages (from jedi>=0.16->ipython>=3.2.3->pyfolio->finrl) (0.8.1)\n",
            "Requirement already satisfied: ipython-genutils in /usr/local/lib/python3.7/dist-packages (from traitlets>=4.2->ipython>=3.2.3->pyfolio->finrl) (0.2.0)\n",
            "Requirement already satisfied: ptyprocess>=0.5 in /usr/local/lib/python3.7/dist-packages (from pexpect>4.3; sys_platform != \"win32\"->ipython>=3.2.3->pyfolio->finrl) (0.7.0)\n",
            "Requirement already satisfied: wcwidth in /usr/local/lib/python3.7/dist-packages (from prompt-toolkit!=3.0.0,!=3.0.1,<3.1.0,>=2.0.0->ipython>=3.2.3->pyfolio->finrl) (0.2.5)\n",
            "Requirement already satisfied: pyasn1-modules>=0.2.1 in /usr/local/lib/python3.7/dist-packages (from google-auth<2,>=1.6.3->tensorboard>=2.2.0; extra == \"extra\"->stable-baselines3[extra]->finrl) (0.2.8)\n",
            "Requirement already satisfied: cachetools<5.0,>=2.0.0 in /usr/local/lib/python3.7/dist-packages (from google-auth<2,>=1.6.3->tensorboard>=2.2.0; extra == \"extra\"->stable-baselines3[extra]->finrl) (4.2.1)\n",
            "Requirement already satisfied: rsa<5,>=3.1.4; python_version >= \"3.6\" in /usr/local/lib/python3.7/dist-packages (from google-auth<2,>=1.6.3->tensorboard>=2.2.0; extra == \"extra\"->stable-baselines3[extra]->finrl) (4.7.2)\n",
            "Requirement already satisfied: requests-oauthlib>=0.7.0 in /usr/local/lib/python3.7/dist-packages (from google-auth-oauthlib<0.5,>=0.4.1->tensorboard>=2.2.0; extra == \"extra\"->stable-baselines3[extra]->finrl) (1.3.0)\n",
            "Requirement already satisfied: importlib-metadata; python_version < \"3.8\" in /usr/local/lib/python3.7/dist-packages (from markdown>=2.6.8->tensorboard>=2.2.0; extra == \"extra\"->stable-baselines3[extra]->finrl) (3.7.0)\n",
            "Requirement already satisfied: pyasn1<0.5.0,>=0.4.6 in /usr/local/lib/python3.7/dist-packages (from pyasn1-modules>=0.2.1->google-auth<2,>=1.6.3->tensorboard>=2.2.0; extra == \"extra\"->stable-baselines3[extra]->finrl) (0.4.8)\n",
            "Requirement already satisfied: oauthlib>=3.0.0 in /usr/local/lib/python3.7/dist-packages (from requests-oauthlib>=0.7.0->google-auth-oauthlib<0.5,>=0.4.1->tensorboard>=2.2.0; extra == \"extra\"->stable-baselines3[extra]->finrl) (3.1.0)\n",
            "Requirement already satisfied: zipp>=0.5 in /usr/local/lib/python3.7/dist-packages (from importlib-metadata; python_version < \"3.8\"->markdown>=2.6.8->tensorboard>=2.2.0; extra == \"extra\"->stable-baselines3[extra]->finrl) (3.4.0)\n",
            "Installing collected packages: finrl\n",
            "Successfully installed finrl-0.3.0\n"
          ],
          "name": "stdout"
        },
        {
          "output_type": "display_data",
          "data": {
            "application/vnd.colab-display-data+json": {
              "pip_warning": {
                "packages": [
                  "finrl"
                ]
              }
            }
          },
          "metadata": {
            "tags": []
          }
        }
      ]
    },
    {
      "cell_type": "code",
      "metadata": {
        "id": "kEPkzKOrQcDb"
      },
      "source": [
        "#from finrl.config.configuration import Configuration\n",
        "#from finrl.config.directory_operations import create_userdata_dir\n",
        "#from finrl.commands import start_download_cryptodata, start_download_stockdata"
      ],
      "execution_count": 12,
      "outputs": []
    },
    {
      "cell_type": "code",
      "metadata": {
        "id": "IEh4TvOSRT_Q"
      },
      "source": [
        "import pandas as pd\n",
        "import numpy as np\n",
        "import matplotlib\n",
        "import matplotlib.pyplot as plt\n",
        "# matplotlib.use('Agg')\n",
        "import datetime\n",
        "\n",
        "%matplotlib inline\n",
        "from finrl.config import config\n",
        "from finrl.marketdata.yahoodownloader import YahooDownloader\n",
        "from finrl.preprocessing.preprocessors import FeatureEngineer\n",
        "from finrl.preprocessing.data import data_split\n",
        "#from finrl.env.env_stocktrading_v2 import StockTradingEnvV2\n",
        "from finrl.model.models import DRLAgent\n",
        "#from finrl.trade.backtest import BackTestStats, BaselineStats, BackTestPlot\n",
        "\n",
        "from pprint import pprint"
      ],
      "execution_count": 12,
      "outputs": []
    },
    {
      "cell_type": "code",
      "metadata": {
        "id": "r0-NSB4IRfPG"
      },
      "source": [
        "import os\n",
        "if not os.path.exists(\"./\" + config.DATA_SAVE_DIR):\n",
        "    os.makedirs(\"./\" + config.DATA_SAVE_DIR)\n",
        "if not os.path.exists(\"./\" + config.TRAINED_MODEL_DIR):\n",
        "    os.makedirs(\"./\" + config.TRAINED_MODEL_DIR)\n",
        "if not os.path.exists(\"./\" + config.TENSORBOARD_LOG_DIR):\n",
        "    os.makedirs(\"./\" + config.TENSORBOARD_LOG_DIR)\n",
        "if not os.path.exists(\"./\" + config.RESULTS_DIR):\n",
        "    os.makedirs(\"./\" + config.RESULTS_DIR)"
      ],
      "execution_count": 13,
      "outputs": []
    },
    {
      "cell_type": "code",
      "metadata": {
        "colab": {
          "base_uri": "https://localhost:8080/",
          "height": 35
        },
        "id": "O_HIfjSdRp8F",
        "outputId": "cfb4c3ce-dcc2-4397-fbeb-675150448201"
      },
      "source": [
        "# from config.py start_date is a string\n",
        "config.START_DATE"
      ],
      "execution_count": 14,
      "outputs": [
        {
          "output_type": "execute_result",
          "data": {
            "application/vnd.google.colaboratory.intrinsic+json": {
              "type": "string"
            },
            "text/plain": [
              "'2000-01-01'"
            ]
          },
          "metadata": {
            "tags": []
          },
          "execution_count": 14
        }
      ]
    },
    {
      "cell_type": "code",
      "metadata": {
        "colab": {
          "base_uri": "https://localhost:8080/",
          "height": 35
        },
        "id": "0yG06tLuRtLs",
        "outputId": "05ca34ad-8230-4baa-a811-fb2b1c9e0a02"
      },
      "source": [
        "# from config.py end_date is a string\n",
        "config.END_DATE"
      ],
      "execution_count": 15,
      "outputs": [
        {
          "output_type": "execute_result",
          "data": {
            "application/vnd.google.colaboratory.intrinsic+json": {
              "type": "string"
            },
            "text/plain": [
              "'2021-01-01'"
            ]
          },
          "metadata": {
            "tags": []
          },
          "execution_count": 15
        }
      ]
    },
    {
      "cell_type": "code",
      "metadata": {
        "id": "oxlkT6JnRwtu"
      },
      "source": [
        "print(config.DOW_30_TICKER)"
      ],
      "execution_count": null,
      "outputs": []
    },
    {
      "cell_type": "code",
      "metadata": {
        "colab": {
          "base_uri": "https://localhost:8080/"
        },
        "id": "xI9YVbz9Rz_O",
        "outputId": "456f8549-c5da-46d3-82de-897af4aa986b"
      },
      "source": [
        "df = YahooDownloader(start_date = '2009-01-01',\n",
        "                     end_date = '2021-01-01',\n",
        "                     ticker_list = config.DOW_30_TICKER).fetch_data()\n"
      ],
      "execution_count": 17,
      "outputs": [
        {
          "output_type": "stream",
          "text": [
            "[*********************100%***********************]  1 of 1 completed\n",
            "[*********************100%***********************]  1 of 1 completed\n",
            "[*********************100%***********************]  1 of 1 completed\n",
            "[*********************100%***********************]  1 of 1 completed\n",
            "[*********************100%***********************]  1 of 1 completed\n",
            "[*********************100%***********************]  1 of 1 completed\n",
            "[*********************100%***********************]  1 of 1 completed\n",
            "[*********************100%***********************]  1 of 1 completed\n",
            "[*********************100%***********************]  1 of 1 completed\n",
            "[*********************100%***********************]  1 of 1 completed\n",
            "[*********************100%***********************]  1 of 1 completed\n",
            "[*********************100%***********************]  1 of 1 completed\n",
            "[*********************100%***********************]  1 of 1 completed\n",
            "[*********************100%***********************]  1 of 1 completed\n",
            "[*********************100%***********************]  1 of 1 completed\n",
            "[*********************100%***********************]  1 of 1 completed\n",
            "[*********************100%***********************]  1 of 1 completed\n",
            "[*********************100%***********************]  1 of 1 completed\n",
            "[*********************100%***********************]  1 of 1 completed\n",
            "[*********************100%***********************]  1 of 1 completed\n",
            "[*********************100%***********************]  1 of 1 completed\n",
            "[*********************100%***********************]  1 of 1 completed\n",
            "[*********************100%***********************]  1 of 1 completed\n",
            "[*********************100%***********************]  1 of 1 completed\n",
            "[*********************100%***********************]  1 of 1 completed\n",
            "[*********************100%***********************]  1 of 1 completed\n",
            "[*********************100%***********************]  1 of 1 completed\n",
            "[*********************100%***********************]  1 of 1 completed\n",
            "[*********************100%***********************]  1 of 1 completed\n",
            "[*********************100%***********************]  1 of 1 completed\n",
            "Shape of DataFrame:  (90630, 8)\n"
          ],
          "name": "stdout"
        }
      ]
    },
    {
      "cell_type": "code",
      "metadata": {
        "colab": {
          "base_uri": "https://localhost:8080/"
        },
        "id": "jjaL7nIOR4bG",
        "outputId": "ada1bced-8c0e-49ef-a57f-70d8756e9e3a"
      },
      "source": [
        "df.shape"
      ],
      "execution_count": 18,
      "outputs": [
        {
          "output_type": "execute_result",
          "data": {
            "text/plain": [
              "(90630, 8)"
            ]
          },
          "metadata": {
            "tags": []
          },
          "execution_count": 18
        }
      ]
    },
    {
      "cell_type": "code",
      "metadata": {
        "colab": {
          "base_uri": "https://localhost:8080/",
          "height": 204
        },
        "id": "6K6U6cHnR6sn",
        "outputId": "8fac5523-37a1-41a4-b655-ba2af01dc887"
      },
      "source": [
        "df.sort_values(['date','tic'],ignore_index=True).head()\n"
      ],
      "execution_count": 19,
      "outputs": [
        {
          "output_type": "execute_result",
          "data": {
            "text/html": [
              "<div>\n",
              "<style scoped>\n",
              "    .dataframe tbody tr th:only-of-type {\n",
              "        vertical-align: middle;\n",
              "    }\n",
              "\n",
              "    .dataframe tbody tr th {\n",
              "        vertical-align: top;\n",
              "    }\n",
              "\n",
              "    .dataframe thead th {\n",
              "        text-align: right;\n",
              "    }\n",
              "</style>\n",
              "<table border=\"1\" class=\"dataframe\">\n",
              "  <thead>\n",
              "    <tr style=\"text-align: right;\">\n",
              "      <th></th>\n",
              "      <th>date</th>\n",
              "      <th>open</th>\n",
              "      <th>high</th>\n",
              "      <th>low</th>\n",
              "      <th>close</th>\n",
              "      <th>volume</th>\n",
              "      <th>tic</th>\n",
              "      <th>day</th>\n",
              "    </tr>\n",
              "  </thead>\n",
              "  <tbody>\n",
              "    <tr>\n",
              "      <th>0</th>\n",
              "      <td>2009-01-02</td>\n",
              "      <td>3.067143</td>\n",
              "      <td>3.251429</td>\n",
              "      <td>3.041429</td>\n",
              "      <td>2.791740</td>\n",
              "      <td>746015200</td>\n",
              "      <td>AAPL</td>\n",
              "      <td>4</td>\n",
              "    </tr>\n",
              "    <tr>\n",
              "      <th>1</th>\n",
              "      <td>2009-01-02</td>\n",
              "      <td>18.570000</td>\n",
              "      <td>19.520000</td>\n",
              "      <td>18.400000</td>\n",
              "      <td>15.745411</td>\n",
              "      <td>10955700</td>\n",
              "      <td>AXP</td>\n",
              "      <td>4</td>\n",
              "    </tr>\n",
              "    <tr>\n",
              "      <th>2</th>\n",
              "      <td>2009-01-02</td>\n",
              "      <td>42.799999</td>\n",
              "      <td>45.560001</td>\n",
              "      <td>42.779999</td>\n",
              "      <td>33.941101</td>\n",
              "      <td>7010200</td>\n",
              "      <td>BA</td>\n",
              "      <td>4</td>\n",
              "    </tr>\n",
              "    <tr>\n",
              "      <th>3</th>\n",
              "      <td>2009-01-02</td>\n",
              "      <td>44.910000</td>\n",
              "      <td>46.980000</td>\n",
              "      <td>44.709999</td>\n",
              "      <td>32.978760</td>\n",
              "      <td>7117200</td>\n",
              "      <td>CAT</td>\n",
              "      <td>4</td>\n",
              "    </tr>\n",
              "    <tr>\n",
              "      <th>4</th>\n",
              "      <td>2009-01-02</td>\n",
              "      <td>16.410000</td>\n",
              "      <td>17.000000</td>\n",
              "      <td>16.250000</td>\n",
              "      <td>12.683227</td>\n",
              "      <td>40980600</td>\n",
              "      <td>CSCO</td>\n",
              "      <td>4</td>\n",
              "    </tr>\n",
              "  </tbody>\n",
              "</table>\n",
              "</div>"
            ],
            "text/plain": [
              "         date       open       high        low      close     volume   tic  day\n",
              "0  2009-01-02   3.067143   3.251429   3.041429   2.791740  746015200  AAPL    4\n",
              "1  2009-01-02  18.570000  19.520000  18.400000  15.745411   10955700   AXP    4\n",
              "2  2009-01-02  42.799999  45.560001  42.779999  33.941101    7010200    BA    4\n",
              "3  2009-01-02  44.910000  46.980000  44.709999  32.978760    7117200   CAT    4\n",
              "4  2009-01-02  16.410000  17.000000  16.250000  12.683227   40980600  CSCO    4"
            ]
          },
          "metadata": {
            "tags": []
          },
          "execution_count": 19
        }
      ]
    },
    {
      "cell_type": "code",
      "metadata": {
        "colab": {
          "base_uri": "https://localhost:8080/"
        },
        "id": "oO33WymoR-am",
        "outputId": "e73d14ec-3063-4053-c0e1-36f5109ba5da"
      },
      "source": [
        "fe = FeatureEngineer(\n",
        "                    use_technical_indicator=True,\n",
        "                    tech_indicator_list = config.TECHNICAL_INDICATORS_LIST,\n",
        "                    use_turbulence=True,\n",
        "                    user_defined_feature = False)\n",
        "\n",
        "processed = fe.preprocess_data(df)\n"
      ],
      "execution_count": 20,
      "outputs": [
        {
          "output_type": "stream",
          "text": [
            "Successfully added technical indicators\n",
            "Successfully added turbulence index\n"
          ],
          "name": "stdout"
        }
      ]
    },
    {
      "cell_type": "code",
      "metadata": {
        "colab": {
          "base_uri": "https://localhost:8080/",
          "height": 549
        },
        "id": "6McnJLSkSCEE",
        "outputId": "ff84211a-3b88-4a98-e2c4-c3a9bdef0c69"
      },
      "source": [
        "processed.sort_values(['date','tic'],ignore_index=True).head(10)"
      ],
      "execution_count": 22,
      "outputs": [
        {
          "output_type": "execute_result",
          "data": {
            "text/html": [
              "<div>\n",
              "<style scoped>\n",
              "    .dataframe tbody tr th:only-of-type {\n",
              "        vertical-align: middle;\n",
              "    }\n",
              "\n",
              "    .dataframe tbody tr th {\n",
              "        vertical-align: top;\n",
              "    }\n",
              "\n",
              "    .dataframe thead th {\n",
              "        text-align: right;\n",
              "    }\n",
              "</style>\n",
              "<table border=\"1\" class=\"dataframe\">\n",
              "  <thead>\n",
              "    <tr style=\"text-align: right;\">\n",
              "      <th></th>\n",
              "      <th>date</th>\n",
              "      <th>open</th>\n",
              "      <th>high</th>\n",
              "      <th>low</th>\n",
              "      <th>close</th>\n",
              "      <th>volume</th>\n",
              "      <th>tic</th>\n",
              "      <th>day</th>\n",
              "      <th>macd</th>\n",
              "      <th>boll_ub</th>\n",
              "      <th>boll_lb</th>\n",
              "      <th>rsi_30</th>\n",
              "      <th>cci_30</th>\n",
              "      <th>dx_30</th>\n",
              "      <th>close_30_sma</th>\n",
              "      <th>close_60_sma</th>\n",
              "      <th>turbulence</th>\n",
              "    </tr>\n",
              "  </thead>\n",
              "  <tbody>\n",
              "    <tr>\n",
              "      <th>0</th>\n",
              "      <td>2009-01-02</td>\n",
              "      <td>3.067143</td>\n",
              "      <td>3.251429</td>\n",
              "      <td>3.041429</td>\n",
              "      <td>2.791740</td>\n",
              "      <td>746015200</td>\n",
              "      <td>AAPL</td>\n",
              "      <td>4</td>\n",
              "      <td>0.000000</td>\n",
              "      <td>3.017278</td>\n",
              "      <td>2.684025</td>\n",
              "      <td>100.000000</td>\n",
              "      <td>66.666667</td>\n",
              "      <td>100.000000</td>\n",
              "      <td>2.791740</td>\n",
              "      <td>2.791740</td>\n",
              "      <td>0.0</td>\n",
              "    </tr>\n",
              "    <tr>\n",
              "      <th>1</th>\n",
              "      <td>2009-01-02</td>\n",
              "      <td>18.570000</td>\n",
              "      <td>19.520000</td>\n",
              "      <td>18.400000</td>\n",
              "      <td>15.745411</td>\n",
              "      <td>10955700</td>\n",
              "      <td>AXP</td>\n",
              "      <td>4</td>\n",
              "      <td>0.002643</td>\n",
              "      <td>3.017278</td>\n",
              "      <td>2.684025</td>\n",
              "      <td>100.000000</td>\n",
              "      <td>66.666667</td>\n",
              "      <td>100.000000</td>\n",
              "      <td>2.850651</td>\n",
              "      <td>2.850651</td>\n",
              "      <td>0.0</td>\n",
              "    </tr>\n",
              "    <tr>\n",
              "      <th>2</th>\n",
              "      <td>2009-01-02</td>\n",
              "      <td>42.799999</td>\n",
              "      <td>45.560001</td>\n",
              "      <td>42.779999</td>\n",
              "      <td>33.941101</td>\n",
              "      <td>7010200</td>\n",
              "      <td>BA</td>\n",
              "      <td>4</td>\n",
              "      <td>0.001880</td>\n",
              "      <td>2.972787</td>\n",
              "      <td>2.735796</td>\n",
              "      <td>70.355711</td>\n",
              "      <td>46.771878</td>\n",
              "      <td>100.000000</td>\n",
              "      <td>2.854292</td>\n",
              "      <td>2.854292</td>\n",
              "      <td>0.0</td>\n",
              "    </tr>\n",
              "    <tr>\n",
              "      <th>3</th>\n",
              "      <td>2009-01-02</td>\n",
              "      <td>44.910000</td>\n",
              "      <td>46.980000</td>\n",
              "      <td>44.709999</td>\n",
              "      <td>32.978760</td>\n",
              "      <td>7117200</td>\n",
              "      <td>CAT</td>\n",
              "      <td>4</td>\n",
              "      <td>-0.000746</td>\n",
              "      <td>2.951725</td>\n",
              "      <td>2.729582</td>\n",
              "      <td>50.429389</td>\n",
              "      <td>-29.777993</td>\n",
              "      <td>43.607834</td>\n",
              "      <td>2.840654</td>\n",
              "      <td>2.840654</td>\n",
              "      <td>0.0</td>\n",
              "    </tr>\n",
              "    <tr>\n",
              "      <th>4</th>\n",
              "      <td>2009-01-02</td>\n",
              "      <td>16.410000</td>\n",
              "      <td>17.000000</td>\n",
              "      <td>16.250000</td>\n",
              "      <td>12.683227</td>\n",
              "      <td>40980600</td>\n",
              "      <td>CSCO</td>\n",
              "      <td>4</td>\n",
              "      <td>-0.000088</td>\n",
              "      <td>2.939568</td>\n",
              "      <td>2.746169</td>\n",
              "      <td>60.227126</td>\n",
              "      <td>-9.019317</td>\n",
              "      <td>48.357918</td>\n",
              "      <td>2.842869</td>\n",
              "      <td>2.842869</td>\n",
              "      <td>0.0</td>\n",
              "    </tr>\n",
              "    <tr>\n",
              "      <th>5</th>\n",
              "      <td>2009-01-02</td>\n",
              "      <td>74.230003</td>\n",
              "      <td>77.300003</td>\n",
              "      <td>73.580002</td>\n",
              "      <td>47.373642</td>\n",
              "      <td>13695900</td>\n",
              "      <td>CVX</td>\n",
              "      <td>4</td>\n",
              "      <td>-0.002480</td>\n",
              "      <td>2.931445</td>\n",
              "      <td>2.735506</td>\n",
              "      <td>47.932736</td>\n",
              "      <td>-27.237701</td>\n",
              "      <td>49.952380</td>\n",
              "      <td>2.833476</td>\n",
              "      <td>2.833476</td>\n",
              "      <td>0.0</td>\n",
              "    </tr>\n",
              "    <tr>\n",
              "      <th>6</th>\n",
              "      <td>2009-01-02</td>\n",
              "      <td>21.605234</td>\n",
              "      <td>22.060680</td>\n",
              "      <td>20.993229</td>\n",
              "      <td>15.336650</td>\n",
              "      <td>13251037</td>\n",
              "      <td>DD</td>\n",
              "      <td>4</td>\n",
              "      <td>-0.006646</td>\n",
              "      <td>2.938422</td>\n",
              "      <td>2.698235</td>\n",
              "      <td>40.237370</td>\n",
              "      <td>-101.614424</td>\n",
              "      <td>9.320766</td>\n",
              "      <td>2.818329</td>\n",
              "      <td>2.818329</td>\n",
              "      <td>0.0</td>\n",
              "    </tr>\n",
              "    <tr>\n",
              "      <th>7</th>\n",
              "      <td>2009-01-02</td>\n",
              "      <td>22.760000</td>\n",
              "      <td>24.030001</td>\n",
              "      <td>22.500000</td>\n",
              "      <td>20.597496</td>\n",
              "      <td>9796600</td>\n",
              "      <td>DIS</td>\n",
              "      <td>4</td>\n",
              "      <td>-0.010724</td>\n",
              "      <td>2.943226</td>\n",
              "      <td>2.663404</td>\n",
              "      <td>37.181826</td>\n",
              "      <td>-113.576183</td>\n",
              "      <td>3.614243</td>\n",
              "      <td>2.803315</td>\n",
              "      <td>2.803315</td>\n",
              "      <td>0.0</td>\n",
              "    </tr>\n",
              "    <tr>\n",
              "      <th>8</th>\n",
              "      <td>2009-01-02</td>\n",
              "      <td>84.019997</td>\n",
              "      <td>87.620003</td>\n",
              "      <td>82.190002</td>\n",
              "      <td>72.559456</td>\n",
              "      <td>14088500</td>\n",
              "      <td>GS</td>\n",
              "      <td>4</td>\n",
              "      <td>-0.017016</td>\n",
              "      <td>2.960305</td>\n",
              "      <td>2.606701</td>\n",
              "      <td>31.067739</td>\n",
              "      <td>-136.004971</td>\n",
              "      <td>17.746098</td>\n",
              "      <td>2.783503</td>\n",
              "      <td>2.783503</td>\n",
              "      <td>0.0</td>\n",
              "    </tr>\n",
              "    <tr>\n",
              "      <th>9</th>\n",
              "      <td>2009-01-02</td>\n",
              "      <td>23.070000</td>\n",
              "      <td>24.190001</td>\n",
              "      <td>22.959999</td>\n",
              "      <td>17.909452</td>\n",
              "      <td>14902500</td>\n",
              "      <td>HD</td>\n",
              "      <td>4</td>\n",
              "      <td>-0.024322</td>\n",
              "      <td>2.978173</td>\n",
              "      <td>2.545136</td>\n",
              "      <td>27.267345</td>\n",
              "      <td>-166.471239</td>\n",
              "      <td>43.235022</td>\n",
              "      <td>2.761654</td>\n",
              "      <td>2.761654</td>\n",
              "      <td>0.0</td>\n",
              "    </tr>\n",
              "  </tbody>\n",
              "</table>\n",
              "</div>"
            ],
            "text/plain": [
              "         date       open       high  ...  close_30_sma  close_60_sma  turbulence\n",
              "0  2009-01-02   3.067143   3.251429  ...      2.791740      2.791740         0.0\n",
              "1  2009-01-02  18.570000  19.520000  ...      2.850651      2.850651         0.0\n",
              "2  2009-01-02  42.799999  45.560001  ...      2.854292      2.854292         0.0\n",
              "3  2009-01-02  44.910000  46.980000  ...      2.840654      2.840654         0.0\n",
              "4  2009-01-02  16.410000  17.000000  ...      2.842869      2.842869         0.0\n",
              "5  2009-01-02  74.230003  77.300003  ...      2.833476      2.833476         0.0\n",
              "6  2009-01-02  21.605234  22.060680  ...      2.818329      2.818329         0.0\n",
              "7  2009-01-02  22.760000  24.030001  ...      2.803315      2.803315         0.0\n",
              "8  2009-01-02  84.019997  87.620003  ...      2.783503      2.783503         0.0\n",
              "9  2009-01-02  23.070000  24.190001  ...      2.761654      2.761654         0.0\n",
              "\n",
              "[10 rows x 17 columns]"
            ]
          },
          "metadata": {
            "tags": []
          },
          "execution_count": 22
        }
      ]
    },
    {
      "cell_type": "code",
      "metadata": {
        "colab": {
          "base_uri": "https://localhost:8080/"
        },
        "id": "wQm2x7wCSFlI",
        "outputId": "23d66ef6-6018-4030-e647-f7e048c2a95a"
      },
      "source": [
        "train = data_split(processed, '2009-01-01','2019-01-01')\n",
        "trade = data_split(processed, '2019-01-01','2021-01-01')\n",
        "print(len(train))\n",
        "print(len(trade))"
      ],
      "execution_count": 23,
      "outputs": [
        {
          "output_type": "stream",
          "text": [
            "75480\n",
            "15150\n"
          ],
          "name": "stdout"
        }
      ]
    },
    {
      "cell_type": "code",
      "metadata": {
        "colab": {
          "base_uri": "https://localhost:8080/"
        },
        "id": "zjcBCnYESINz",
        "outputId": "cfd630b6-1e8a-4e76-e159-145e3a1338a9"
      },
      "source": [
        "import time\n",
        "milliseconds = int(round(time.time() * 1000))\n",
        "print(milliseconds)"
      ],
      "execution_count": 24,
      "outputs": [
        {
          "output_type": "stream",
          "text": [
            "1614831458901\n"
          ],
          "name": "stdout"
        }
      ]
    },
    {
      "cell_type": "code",
      "metadata": {
        "id": "rLO4tN0SSPYQ"
      },
      "source": [
        "import numpy as np\n",
        "import pandas as pd\n",
        "from gym.utils import seeding\n",
        "import gym\n",
        "from gym import spaces\n",
        "import matplotlib\n",
        "from copy import deepcopy\n",
        "\n",
        "matplotlib.use(\"Agg\")\n",
        "import matplotlib.pyplot as plt\n",
        "import pickle\n",
        "from stable_baselines3.common.vec_env import DummyVecEnv\n",
        "import numpy as np\n",
        "import pandas as pd\n",
        "from gym.utils import seeding\n",
        "import gym\n",
        "from gym import spaces\n",
        "import matplotlib\n",
        "import random\n",
        "\n",
        "matplotlib.use(\"Agg\")\n",
        "import matplotlib.pyplot as plt\n",
        "import pickle\n",
        "from stable_baselines3.common.vec_env import DummyVecEnv, SubprocVecEnv\n",
        "from stable_baselines3.common import logger\n",
        "import time\n",
        "\n",
        "class StockTradingEnvV2(gym.Env):\n",
        "    \n",
        "    \"\"\"\n",
        "    A stock trading environment for OpenAI gym\n",
        "    Parameters:\n",
        "    state space: {start_cash, <owned_shares>, for s in stocks{<stock.values>}, }\n",
        "        df (pandas.DataFrame): Dataframe containing data\n",
        "        transaction_cost (float): cost for buying or selling shares\n",
        "        hmax (int): max number of share purchases allowed per asset\n",
        "        turbulence_threshold (float): Maximum turbulence allowed in market for purchases to occur. If exceeded, positions are liquidated\n",
        "        print_verbosity(int): When iterating (step), how often to print stats about state of env\n",
        "        reward_scaling (float): Scaling value to multiply reward by at each step. \n",
        "        initial_amount: (int, float): Amount of cash initially available\n",
        "        daily_information_columns (list(str)): Columns to use when building state space from the dataframe. \n",
        "        out_of_cash_penalty (int, float): Penalty to apply if the algorithm runs out of cash\n",
        "    \n",
        "    action space: <share_dollar_purchases>\n",
        "    \n",
        "    TODO:\n",
        "        property for date index - starting point\n",
        "        \n",
        "\n",
        "    tests:\n",
        "        after reset, static strategy should result in same metrics\n",
        "\n",
        "        buy zero should result in no costs, no assets purchased\n",
        "        given no change in prices, no change in asset values\n",
        "    \"\"\"\n",
        "    metadata = {\"render.modes\": [\"human\"]}\n",
        "\n",
        "    def __init__(\n",
        "        self,\n",
        "        df,\n",
        "        transaction_cost_pct=3e-3,\n",
        "        date_col_name=\"date\",\n",
        "        hmax=10,\n",
        "        turbulence_threshold=None,\n",
        "        print_verbosity=10,\n",
        "        reward_scaling=1e-4,\n",
        "        initial_amount=1e6,\n",
        "        daily_information_cols=[\"open\", \"close\", \"high\", \"low\", \"volume\"],\n",
        "        out_of_cash_penalty=None,\n",
        "        cache_indicator_data = True,\n",
        "        daily_reward = None,\n",
        "        cash_penalty_proportion = 0.1, \n",
        "        random_start = True\n",
        "    ):\n",
        "        self.df = df\n",
        "        self.stock_col = \"tic\"\n",
        "        self.assets = df[self.stock_col].unique()\n",
        "        self.dates = df[date_col_name].sort_values().unique()\n",
        "        self.random_start = random_start\n",
        "\n",
        "        self.df = self.df.set_index(date_col_name)\n",
        "        self.hmax = hmax\n",
        "        self.initial_amount = initial_amount\n",
        "        if out_of_cash_penalty is None:\n",
        "            out_of_cash_penalty=-initial_amount*0.5\n",
        "        self.out_of_cash_penalty = out_of_cash_penalty\n",
        "        self.print_verbosity = print_verbosity\n",
        "        self.transaction_cost_pct = transaction_cost_pct\n",
        "        self.reward_scaling = reward_scaling\n",
        "        self.daily_information_cols = daily_information_cols\n",
        "        self.close_index = self.daily_information_cols.index(\"close\")\n",
        "        self.state_space = (\n",
        "            1 + len(self.assets) + len(self.assets) * len(self.daily_information_cols)\n",
        "        )\n",
        "        self.action_space = spaces.Box(low=-1, high=1, shape=(len(self.assets),))\n",
        "        self.observation_space = spaces.Box(\n",
        "            low=-np.inf, high=np.inf, shape=(self.state_space,)\n",
        "        )\n",
        "        self.episode = -1  # initialize so we can call reset\n",
        "        self.episode_history = []\n",
        "        self.printed_header = False\n",
        "        self.daily_reward = daily_reward\n",
        "        self.cache_indicator_data = cache_indicator_data\n",
        "        self.cached_data = None\n",
        "        self.cash_penalty_proportion = cash_penalty_proportion\n",
        "        if self.cache_indicator_data:\n",
        "            print(\"caching data\")\n",
        "            self.cached_data = [self.get_date_vector(i) for i, _ in enumerate(self.dates)]\n",
        "            print(\"data cached!\")\n",
        "        \n",
        "\n",
        "    def seed(self, seed=None):\n",
        "        if seed is None:\n",
        "            seed = int(round(time.time() * 1000))\n",
        "        random.seed(seed)\n",
        "        \n",
        "    @property\n",
        "    def current_step(self):\n",
        "        return self.date_index-self.starting_point\n",
        "\n",
        "\n",
        "    def reset(self):\n",
        "        self.seed()\n",
        "        self.sum_trades = 0\n",
        "        if self.random_start:\n",
        "            starting_point = random.choice(range(int(len(self.dates)*0.5)))\n",
        "            self.starting_point = starting_point\n",
        "        else:\n",
        "            self.starting_point = 0\n",
        "        self.date_index = self.starting_point\n",
        "        self.episode += 1\n",
        "        self.actions_memory = []\n",
        "        self.transaction_memory = []\n",
        "        self.state_memory = []\n",
        "        self.account_information = {\n",
        "            \"cash\": [],\n",
        "            \"asset_value\": [],\n",
        "            \"total_assets\": [],\n",
        "            'reward': []\n",
        "        }\n",
        "        init_state = np.array(\n",
        "                [self.initial_amount]\n",
        "                + [0] * len(self.assets)\n",
        "                + self.get_date_vector(self.date_index)\n",
        "            )\n",
        "        self.state_memory.append(init_state)\n",
        "        return init_state\n",
        "\n",
        "    def get_date_vector(self, date, cols=None):\n",
        "        if (cols is None) and (self.cached_data is not None):\n",
        "            return self.cached_data[date]\n",
        "        else:\n",
        "            date = self.dates[date]\n",
        "            if cols is None:\n",
        "                cols = self.daily_information_cols\n",
        "            trunc_df = self.df.loc[date]\n",
        "            v = []\n",
        "            for a in self.assets:\n",
        "                subset = trunc_df[trunc_df[self.stock_col] == a]\n",
        "                v += subset.loc[date, cols].tolist()\n",
        "            assert len(v) == len(self.assets) * len(cols)\n",
        "            return v\n",
        "        \n",
        "    def return_terminal(self, reason='Last Date', reward=0):\n",
        "\n",
        "        state = self.state_memory[-1]\n",
        "        self.log_step(reason = reason, terminal_reward= reward)\n",
        "        reward = reward*self.reward_scaling\n",
        "        # Add outputs to logger interface\n",
        "        reward_pct = self.account_information['total_assets'][-1]/self.initial_amount\n",
        "        logger.record(\"environment/total_reward_pct\", (reward_pct-1)*100)\n",
        "        logger.record(\"environment/daily_trades\", self.sum_trades/(self.current_step)/len(self.assets))\n",
        "        logger.record(\"environment/completed_steps\", self.current_step)\n",
        "        logger.record(\"environment/sum_rewards\", np.sum(self.account_information['reward']))\n",
        "        logger.record(\"environment/cash_proportion\", self.account_information['cash'][-1]/self.account_information['total_assets'][-1])\n",
        "        return state, reward, True, {}\n",
        "    \n",
        "    def log_step(self, reason, terminal_reward=None):\n",
        "        if terminal_reward is None:\n",
        "            terminal_reward = self.account_information['reward'][-1]\n",
        "        cash_pct = self.account_information['cash'][-1]/self.account_information['total_assets'][-1]\n",
        "        rec = [self.episode, self.date_index-self.starting_point, reason, f\"${int(self.account_information['total_assets'][-1])}\",f\"${terminal_reward:0.2f}\", f\"{cash_pct*100:0.2f}%\"]\n",
        "\n",
        "        self.episode_history.append(rec)\n",
        "        print(self.template.format(*rec))\n",
        "\n",
        "    def step(self, actions):\n",
        "        #let's just log what we're doing in terms of max actions at each step. \n",
        "        self.sum_trades += np.sum(np.abs(actions))\n",
        "        \n",
        "        #print header only first time\n",
        "        if self.printed_header is False:\n",
        "            self.template = \"{0:4}|{1:4}|{2:15}|{3:10}|{4:10}|{5:10}\" # column widths: 8, 10, 15, 7, 10\n",
        "            print(self.template.format(\"EPISODE\", \"STEPS\", \"TERMINAL_REASON\", \"TOT_ASSETS\", \"TERMINAL_REWARD_unsc\", \"CASH_PCT\"))\n",
        "            self.printed_header = True\n",
        "\n",
        "        # define terminal function in scope so we can do something about the cycle being over\n",
        "\n",
        "\n",
        "        # print if it's time.\n",
        "        if (self.current_step+ 1) % self.print_verbosity == 0:\n",
        "            self.log_step(reason = 'update')\n",
        "\n",
        "        #if we're at the end\n",
        "        if self.date_index == len(self.dates) - 1:\n",
        "            #if we hit the end, set reward to total gains (or losses)\n",
        "            terminal_reward = self.account_information['total_assets'][-1]-self.initial_amount\n",
        "            return self.return_terminal(reward = terminal_reward)\n",
        "        else:\n",
        "            #compute value of cash + assets\n",
        "            begin_cash = self.state_memory[-1][0]\n",
        "            holdings = self.state_memory[-1][1 : len(self.assets) + 1]\n",
        "            assert (min(holdings)>=0)\n",
        "            closings = np.array(self.get_date_vector(self.date_index, cols=[\"close\"]))\n",
        "            asset_value = np.dot(holdings, closings)\n",
        "\n",
        "            # reward is (cash + assets) - (cash_last_step + assets_last_step)\n",
        "            if self.current_step==0:\n",
        "                reward = 0\n",
        "            else:\n",
        "                #stepwise reward\n",
        "                reward = (\n",
        "                    begin_cash + asset_value - self.account_information[\"total_assets\"][-1]\n",
        "                )\n",
        "                #\n",
        "                if self.daily_reward is not None:\n",
        "                    reward+=(self.daily_reward*self.current_step)\n",
        "                if self.cash_penalty_proportion is not None:\n",
        "                    cash_penalty = min(0, begin_cash-(self.cash_penalty_proportion*self.initial_amount))\n",
        "                    reward += cash_penalty\n",
        "\n",
        "            # log the values of cash, assets, and total assets\n",
        "            self.account_information[\"cash\"].append(begin_cash)\n",
        "            self.account_information[\"asset_value\"].append(asset_value)\n",
        "            self.account_information[\"total_assets\"].append(begin_cash + asset_value)\n",
        "            self.account_information['reward'].append(reward)\n",
        "\n",
        "            # multiply action values by our scalar multiplier and save\n",
        "            actions = actions * self.hmax\n",
        "            self.actions_memory.append(actions)\n",
        "            \n",
        "            \n",
        "            #scale cash purchases to asset # changes\n",
        "            actions = actions/closings \n",
        "            self.transaction_memory.append(actions)\n",
        "            \n",
        "            \n",
        "            # clip actions so we can't sell more assets than we hold\n",
        "            actions = np.maximum(actions, -np.array(holdings))\n",
        "\n",
        "\n",
        "            # compute our proceeds from sales, and add to cash\n",
        "            sells = -np.clip(actions, -np.inf, 0)\n",
        "            proceeds = np.dot(sells, closings)\n",
        "            costs = proceeds * self.transaction_cost_pct\n",
        "            coh = begin_cash + proceeds\n",
        "\n",
        "            # compute the cost of our buys\n",
        "            buys = np.clip(actions, 0, np.inf)\n",
        "            spend = np.dot(buys, closings)\n",
        "            costs += spend * self.transaction_cost_pct\n",
        "\n",
        "            # if we run out of cash, end the cycle and penalize\n",
        "            if (spend + costs) > coh:\n",
        "                return self.return_terminal(reason = 'CASH SHORTAGE',\n",
        "                    reward=self.out_of_cash_penalty,\n",
        "                )\n",
        "\n",
        "            # verify we didn't do anything impossible here\n",
        "            assert (spend + costs) <= coh\n",
        "\n",
        "            # update our holdings\n",
        "            coh = coh - spend - costs\n",
        "            holdings_updated = holdings + actions\n",
        "            self.date_index += 1\n",
        "            state = (\n",
        "                [coh] + list(holdings_updated) + self.get_date_vector(self.date_index)\n",
        "            )\n",
        "            self.state_memory.append(state)\n",
        "            reward = reward * self.reward_scaling\n",
        "            return state, reward, False, {}\n",
        "\n",
        "    def get_sb_env(self):\n",
        "        def get_self():\n",
        "            return deepcopy(self)\n",
        "        e = DummyVecEnv([get_self])\n",
        "        obs = e.reset()\n",
        "        return e, obs\n",
        "    \n",
        "    def get_multiproc_env(self, n = 10):\n",
        "        def get_self():\n",
        "            return deepcopy(self)\n",
        "        e = SubprocVecEnv([get_self for _ in range(n)], start_method = 'fork')\n",
        "        obs = e.reset()\n",
        "        return e, obs\n",
        "\n",
        "    def save_asset_memory(self):\n",
        "        if self.current_step==0:\n",
        "            return None\n",
        "        else:\n",
        "            self.account_information[\"date\"] = self.dates[- len(self.account_information['cash']):]\n",
        "            return pd.DataFrame(self.account_information)\n",
        "\n",
        "    def save_action_memory(self):\n",
        "        if self.current_step==0:\n",
        "            return None\n",
        "        else:\n",
        "            return pd.DataFrame(\n",
        "                {\"date\": self.dates[-len(self.account_information['cash']): ], \n",
        "                 \"actions\": self.actions_memory, \n",
        "                 \"transactions\": self.transaction_memory}\n",
        "            )"
      ],
      "execution_count": 25,
      "outputs": []
    },
    {
      "cell_type": "code",
      "metadata": {
        "colab": {
          "base_uri": "https://localhost:8080/"
        },
        "id": "0qH8mS-ISYrI",
        "outputId": "be6c5014-6290-408e-9ff4-a46d26d5186c"
      },
      "source": [
        "print(StockTradingEnvV2.__doc__)"
      ],
      "execution_count": 26,
      "outputs": [
        {
          "output_type": "stream",
          "text": [
            "\n",
            "    A stock trading environment for OpenAI gym\n",
            "    Parameters:\n",
            "    state space: {start_cash, <owned_shares>, for s in stocks{<stock.values>}, }\n",
            "        df (pandas.DataFrame): Dataframe containing data\n",
            "        transaction_cost (float): cost for buying or selling shares\n",
            "        hmax (int): max number of share purchases allowed per asset\n",
            "        turbulence_threshold (float): Maximum turbulence allowed in market for purchases to occur. If exceeded, positions are liquidated\n",
            "        print_verbosity(int): When iterating (step), how often to print stats about state of env\n",
            "        reward_scaling (float): Scaling value to multiply reward by at each step. \n",
            "        initial_amount: (int, float): Amount of cash initially available\n",
            "        daily_information_columns (list(str)): Columns to use when building state space from the dataframe. \n",
            "        out_of_cash_penalty (int, float): Penalty to apply if the algorithm runs out of cash\n",
            "    \n",
            "    action space: <share_dollar_purchases>\n",
            "    \n",
            "    TODO:\n",
            "        property for date index - starting point\n",
            "        \n",
            "\n",
            "    tests:\n",
            "        after reset, static strategy should result in same metrics\n",
            "\n",
            "        buy zero should result in no costs, no assets purchased\n",
            "        given no change in prices, no change in asset values\n",
            "    \n"
          ],
          "name": "stdout"
        }
      ]
    },
    {
      "cell_type": "code",
      "metadata": {
        "colab": {
          "base_uri": "https://localhost:8080/"
        },
        "id": "xGFe1_Q-StH8",
        "outputId": "951a3b0b-946c-4cda-d7fd-78b2a4e50108"
      },
      "source": [
        "information_cols = ['open', 'high', 'low', 'close', 'volume', 'day', 'macd', 'rsi_30', 'cci_30', 'dx_30', 'turbulence']\n",
        "\n",
        "env_kwargs = {\n",
        "    \"hmax\": 5000, \n",
        "    \"daily_reward\": 5,\n",
        "    \"out_of_cash_penalty\": 0, \n",
        "    \"cash_penalty_proportion\": 0.1,\n",
        "    \"daily_information_cols\": information_cols, \n",
        "    \"print_verbosity\": 500, \n",
        "    \n",
        "}\n",
        "e_train_gym = StockTradingEnvV2(df = train, cache_indicator_data=True,\n",
        "                              **env_kwargs)\n",
        "\n",
        "# e_train_obs = StockTradingEnvV2(df = train, cache_indicator_data=False, **env_kwargs)\n",
        "\n",
        "\n",
        "# e_trade_gym = StockTradingEnvV2(df = train,**env_kwargs)\n",
        "# env_trade, obs_trade = e_trade_gym.get_sb_env()\n"
      ],
      "execution_count": 27,
      "outputs": [
        {
          "output_type": "stream",
          "text": [
            "caching data\n",
            "data cached!\n"
          ],
          "name": "stdout"
        }
      ]
    },
    {
      "cell_type": "markdown",
      "metadata": {
        "id": "ADVICXo9S20P"
      },
      "source": [
        "# single processing\n",
        "env_train, _ = e_train_gym.get_sb_env()\n",
        "\n",
        "\n",
        "#multiprocessing\n",
        "env_train, _ = e_train_gym.get_multiproc_env(n = <n_cores>)"
      ]
    },
    {
      "cell_type": "code",
      "metadata": {
        "colab": {
          "base_uri": "https://localhost:8080/"
        },
        "id": "yKob0Q1qS2On",
        "outputId": "a1fc46f8-4837-4c56-97ce-65e0e0219c00"
      },
      "source": [
        "# for this example, let's do multiprocessing with n_cores-2\n",
        "\n",
        "import multiprocessing\n",
        "\n",
        "n_cores = multiprocessing.cpu_count() - 2\n",
        "n_cores = 24\n",
        "print(f\"using {n_cores} cores\")\n",
        "\n",
        "# \n",
        "e_train_gym.print_verbosity = 500\n",
        "env_train, _ = e_train_gym.get_multiproc_env(n = n_cores)\n",
        "# env_train, _ = e_train_gym.get_sb_env()\n",
        "\n",
        "env_train_obs, _ = e_train_gym.get_sb_env()"
      ],
      "execution_count": 28,
      "outputs": [
        {
          "output_type": "stream",
          "text": [
            "using 24 cores\n"
          ],
          "name": "stdout"
        }
      ]
    },
    {
      "cell_type": "code",
      "metadata": {
        "id": "QuZo5hJFTAU9"
      },
      "source": [
        "agent = DRLAgent(env = env_train)"
      ],
      "execution_count": 29,
      "outputs": []
    },
    {
      "cell_type": "code",
      "metadata": {
        "colab": {
          "base_uri": "https://localhost:8080/"
        },
        "id": "fQTCWvpqTC6T",
        "outputId": "fc8a2ed3-7209-4f2e-b442-eae4a7faf0ed"
      },
      "source": [
        "print(config.PPO_PARAMS)"
      ],
      "execution_count": 30,
      "outputs": [
        {
          "output_type": "stream",
          "text": [
            "{'n_steps': 2048, 'ent_coef': 0.01, 'learning_rate': 0.00025, 'batch_size': 64}\n"
          ],
          "name": "stdout"
        }
      ]
    },
    {
      "cell_type": "code",
      "metadata": {
        "colab": {
          "base_uri": "https://localhost:8080/"
        },
        "id": "qflKn6y6TGSD",
        "outputId": "f6d86f60-0ed9-43ae-c20d-71c216c1b460"
      },
      "source": [
        "from torch.nn import Softsign, ReLU\n",
        "ppo_params ={'n_steps': 256, \n",
        "             'ent_coef': 0.01, \n",
        "             'learning_rate': 0.00001, \n",
        "             'batch_size': 256, \n",
        "            'gamma': 0.99}\n",
        "\n",
        "policy_kwargs = {\n",
        "#     \"activation_fn\": ReLU,\n",
        "    \"net_arch\": [1024, 1024, 1024,  1024], \n",
        "#     \"squash_output\": True\n",
        "}\n",
        "\n",
        "model = agent.get_model(\"ppo\",  model_kwargs = ppo_params, policy_kwargs = policy_kwargs, verbose = 0)"
      ],
      "execution_count": 31,
      "outputs": [
        {
          "output_type": "stream",
          "text": [
            "{'n_steps': 256, 'ent_coef': 0.01, 'learning_rate': 1e-05, 'batch_size': 256, 'gamma': 0.99}\n"
          ],
          "name": "stdout"
        }
      ]
    },
    {
      "cell_type": "code",
      "metadata": {
        "colab": {
          "base_uri": "https://localhost:8080/"
        },
        "id": "zwYX1VjwTKSy",
        "outputId": "def20c6a-d9d6-40f5-8719-f3e635100140"
      },
      "source": [
        "model.learn(total_timesteps = 1000000, \n",
        "            eval_env = env_train_obs, \n",
        "            eval_freq = 1000,\n",
        "            log_interval = 1, \n",
        "            tb_log_name = 'cashbuffer_1_16_longrun',\n",
        "            n_eval_episodes = 1,\n",
        "            reset_num_timesteps = True)"
      ],
      "execution_count": 32,
      "outputs": [
        {
          "output_type": "stream",
          "text": [
            "/usr/local/lib/python3.7/dist-packages/stable_baselines3/common/callbacks.py:327: UserWarning: Training and eval env are not of the same type<stable_baselines3.common.vec_env.subproc_vec_env.SubprocVecEnv object at 0x7f5c2bb9f3d0> != <stable_baselines3.common.vec_env.dummy_vec_env.DummyVecEnv object at 0x7f5c2bb9f650>\n",
            "  warnings.warn(\"Training and eval env are not of the same type\" f\"{self.training_env} != {self.eval_env}\")\n",
            "/usr/local/lib/python3.7/dist-packages/stable_baselines3/common/evaluation.py:69: UserWarning: Evaluation environment is not wrapped with a ``Monitor`` wrapper. This may result in reporting modified episode lengths and rewards, if other wrappers happen to modify these. Consider wrapping environment first with ``Monitor`` wrapper.\n",
            "  UserWarning,\n"
          ],
          "name": "stderr"
        },
        {
          "output_type": "stream",
          "text": [
            "EPISODE|STEPS|TERMINAL_REASON|TOT_ASSETS|TERMINAL_REWARD_unsc|CASH_PCT  \n",
            "   1| 499|update         |$1056405  |$7250.51  |66.02%    \n",
            "   1| 999|update         |$1193306  |$5044.88  |35.43%    \n",
            "   1|1490|Last Date      |$1419759  |$419759.23|7.31%     \n",
            "Eval num_timesteps=24000, episode_reward=638.60 +/- 0.00\n",
            "Episode length: 1491.00 +/- 0.00\n",
            "New best mean reward!\n",
            "   3| 499|update         |$999495   |$2766.87  |90.42%    \n",
            "   3| 999|update         |$1029358  |$5101.04  |72.42%    \n",
            "   3|1492|Last Date      |$1039647  |$39647.31 |52.22%    \n",
            "Eval num_timesteps=48000, episode_reward=564.07 +/- 0.00\n",
            "Episode length: 1493.00 +/- 0.00\n",
            "   5| 499|update         |$999613   |$2489.89  |99.98%    \n",
            "   5| 999|update         |$999592   |$4990.00  |100.00%   \n",
            "   5|1499|update         |$1000615  |$7569.76  |99.58%    \n",
            "   5|1999|update         |$1002864  |$10421.63 |96.40%    \n",
            "   5|2021|Last Date      |$1000860  |$860.11   |96.61%    \n",
            "Eval num_timesteps=72000, episode_reward=1020.78 +/- 0.00\n",
            "Episode length: 2022.00 +/- 0.00\n",
            "New best mean reward!\n",
            "   7| 499|update         |$1002441  |$2195.49  |95.32%    \n",
            "   7| 999|update         |$1025071  |$5614.24  |92.42%    \n",
            "   7|1499|update         |$1034232  |$7489.97  |99.99%    \n",
            "   7|1999|update         |$1034763  |$9987.67  |99.43%    \n",
            "   7|2098|Last Date      |$1035165  |$35165.02 |99.36%    \n",
            "Eval num_timesteps=96000, episode_reward=1106.91 +/- 0.00\n",
            "Episode length: 2099.00 +/- 0.00\n",
            "New best mean reward!\n",
            "   9| 499|update         |$1001160  |$3526.55  |88.08%    \n",
            "   9| 999|update         |$1079898  |$4764.38  |67.29%    \n",
            "   9|1499|update         |$1236422  |$6408.35  |64.86%    \n",
            "   9|1999|update         |$1291949  |$14964.29 |82.27%    \n",
            "   9|2408|Last Date      |$1356201  |$356201.59|81.23%    \n",
            "Eval num_timesteps=120000, episode_reward=1520.26 +/- 0.00\n",
            "Episode length: 2409.00 +/- 0.00\n",
            "New best mean reward!\n",
            "  11| 499|update         |$990926   |$4074.85  |92.09%    \n",
            "  11| 999|update         |$1058869  |$5614.84  |81.16%    \n",
            "  11|1499|update         |$1088113  |$9129.35  |88.76%    \n",
            "  11|1999|update         |$1115923  |$10165.68 |97.41%    \n",
            "  11|2124|Last Date      |$1111923  |$111923.17|97.35%    \n",
            "Eval num_timesteps=144000, episode_reward=1149.70 +/- 0.00\n",
            "Episode length: 2125.00 +/- 0.00\n",
            "  13| 499|update         |$1034078  |$2816.32  |89.66%    \n",
            "  13| 999|update         |$1034867  |$4076.03  |90.33%    \n",
            "  13|1499|update         |$1070359  |$11273.42 |80.98%    \n",
            "  13|1856|Last Date      |$1077145  |$77145.35 |71.02%    \n",
            "Eval num_timesteps=168000, episode_reward=876.15 +/- 0.00\n",
            "Episode length: 1857.00 +/- 0.00\n",
            "  15| 499|update         |$1046741  |$5171.64  |76.96%    \n",
            "  15| 999|update         |$1205513  |$5035.90  |68.31%    \n",
            "  15|1499|update         |$1335091  |$7256.47  |83.45%    \n",
            "  15|1999|update         |$1388639  |$-474.80  |79.17%    \n",
            "  15|2148|Last Date      |$1357370  |$357371.00|77.48%    \n",
            "Eval num_timesteps=192000, episode_reward=1224.41 +/- 0.00\n",
            "Episode length: 2149.00 +/- 0.00\n",
            "  17| 499|update         |$1001132  |$2480.95  |98.21%    \n",
            "  17| 999|update         |$1018867  |$4776.20  |96.61%    \n",
            "  17|1499|update         |$1017509  |$7561.09  |98.82%    \n",
            "  17|1999|update         |$1025977  |$10427.38 |90.46%    \n",
            "  17|2244|Last Date      |$1002822  |$2822.93  |89.12%    \n",
            "Eval num_timesteps=216000, episode_reward=1258.89 +/- 0.00\n",
            "Episode length: 2245.00 +/- 0.00\n",
            "  19| 499|update         |$1026998  |$6401.60  |58.93%    \n",
            "  19| 999|update         |$1218648  |$2444.45  |80.36%    \n",
            "  19|1499|update         |$1202862  |$7735.59  |97.52%    \n",
            "  19|1972|Last Date      |$1194027  |$194027.61|94.85%    \n",
            "Eval num_timesteps=240000, episode_reward=1010.51 +/- 0.00\n",
            "Episode length: 1973.00 +/- 0.00\n",
            "  21| 499|update         |$1025846  |$1226.19  |89.93%    \n",
            "  21| 999|update         |$1077018  |$3077.79  |76.05%    \n",
            "  21|1499|update         |$1074419  |$8131.29  |93.38%    \n",
            "  21|1999|update         |$1076567  |$9990.00  |100.00%   \n",
            "  21|2474|Last Date      |$1076173  |$76173.16 |99.95%    \n",
            "Eval num_timesteps=264000, episode_reward=1544.79 +/- 0.00\n",
            "Episode length: 2475.00 +/- 0.00\n",
            "New best mean reward!\n",
            "  23| 499|update         |$1050931  |$1689.42  |85.00%    \n",
            "  23| 999|update         |$1156069  |$5456.88  |78.32%    \n",
            "  23|1499|update         |$1235009  |$7603.37  |91.14%    \n",
            "  23|1999|update         |$1302622  |$18544.40 |61.43%    \n",
            "  23|2093|Last Date      |$1300197  |$300197.72|59.86%    \n",
            "Eval num_timesteps=288000, episode_reward=1154.68 +/- 0.00\n",
            "Episode length: 2094.00 +/- 0.00\n",
            "  25| 499|update         |$1017070  |$2096.23  |94.92%    \n",
            "  25| 999|update         |$1021367  |$4994.13  |97.11%    \n",
            "  25|1499|update         |$1078462  |$10435.31 |82.41%    \n",
            "  25|1698|Last Date      |$1092898  |$92898.19 |76.46%    \n",
            "Eval num_timesteps=312000, episode_reward=738.96 +/- 0.00\n",
            "Episode length: 1699.00 +/- 0.00\n",
            "  27| 499|update         |$1137973  |$1054.45  |49.02%    \n",
            "  27| 999|update         |$1573483  |$-324.95  |39.50%    \n",
            "  27|1499|update         |$1751128  |$9620.67  |70.92%    \n",
            "  27|1955|Last Date      |$1910603  |$910603.12|81.89%    \n",
            "Eval num_timesteps=336000, episode_reward=1137.14 +/- 0.00\n",
            "Episode length: 1956.00 +/- 0.00\n",
            "  29| 499|update         |$1056321  |$1967.24  |87.20%    \n",
            "  29| 999|update         |$1063572  |$4945.78  |98.73%    \n",
            "  29|1499|update         |$1088830  |$6939.01  |92.14%    \n",
            "  29|1540|Last Date      |$1085704  |$85704.89 |92.99%    \n",
            "Eval num_timesteps=360000, episode_reward=609.66 +/- 0.00\n",
            "Episode length: 1541.00 +/- 0.00\n",
            "  31| 499|update         |$999645   |$2501.97  |99.42%    \n",
            "  31| 999|update         |$998923   |$5481.83  |96.56%    \n",
            "  31|1277|Last Date      |$1009635  |$9635.78  |93.56%    \n",
            "Eval num_timesteps=384000, episode_reward=409.29 +/- 0.00\n",
            "Episode length: 1278.00 +/- 0.00\n",
            "  33| 499|update         |$1001713  |$2490.00  |100.00%   \n",
            "  33| 999|update         |$1001619  |$4990.00  |100.00%   \n",
            "  33|1471|Last Date      |$1001295  |$1295.32  |99.97%    \n",
            "Eval num_timesteps=408000, episode_reward=540.85 +/- 0.00\n",
            "Episode length: 1472.00 +/- 0.00\n",
            "  35| 499|update         |$1051529  |$2269.65  |87.52%    \n",
            "  35| 999|update         |$1058270  |$5340.60  |91.96%    \n",
            "  35|1499|update         |$1094032  |$8794.73  |82.74%    \n",
            "  35|1685|Last Date      |$1112552  |$112552.05|79.28%    \n",
            "Eval num_timesteps=432000, episode_reward=731.90 +/- 0.00\n",
            "Episode length: 1686.00 +/- 0.00\n",
            "  37| 499|update         |$996846   |$-17608.34|62.28%    \n",
            "  37| 999|update         |$1355986  |$18834.69 |13.91%    \n",
            "  37|1499|update         |$1503487  |$13470.92 |29.04%    \n",
            "  37|1999|update         |$1623542  |$7068.14  |57.08%    \n",
            "  37|2361|Last Date      |$1808576  |$808576.75|53.22%    \n",
            "Eval num_timesteps=456000, episode_reward=1554.71 +/- 0.00\n",
            "Episode length: 2362.00 +/- 0.00\n",
            "New best mean reward!\n",
            "  39| 499|update         |$1012316  |$2593.21  |96.72%    \n",
            "  39| 999|update         |$1016332  |$4988.62  |99.97%    \n",
            "  39|1353|Last Date      |$1014913  |$14913.78 |99.04%    \n",
            "Eval num_timesteps=480000, episode_reward=460.30 +/- 0.00\n",
            "Episode length: 1354.00 +/- 0.00\n",
            "  41| 499|update         |$1022233  |$-1278.84 |74.92%    \n",
            "  41| 999|update         |$1158477  |$5122.70  |82.96%    \n",
            "  41|1499|update         |$1136834  |$7488.23  |99.98%    \n",
            "  41|1999|update         |$1136192  |$9983.26  |99.75%    \n",
            "  41|2009|Last Date      |$1135846  |$135846.03|99.77%    \n",
            "Eval num_timesteps=504000, episode_reward=1035.69 +/- 0.00\n",
            "Episode length: 2010.00 +/- 0.00\n",
            "  43| 499|update         |$1049574  |$2562.32  |85.79%    \n",
            "  43| 999|update         |$1056650  |$5661.47  |92.74%    \n",
            "  43|1499|update         |$1095029  |$8218.62  |84.17%    \n",
            "  43|1586|Last Date      |$1071185  |$71185.45 |83.23%    \n",
            "Eval num_timesteps=528000, episode_reward=642.69 +/- 0.00\n",
            "Episode length: 1587.00 +/- 0.00\n",
            "  45| 499|update         |$1001070  |$2490.06  |99.99%    \n",
            "  45| 999|update         |$1007317  |$2819.49  |94.75%    \n",
            "  45|1499|update         |$1026697  |$7300.99  |87.99%    \n",
            "  45|1676|Last Date      |$1006980  |$6980.32  |85.29%    \n",
            "Eval num_timesteps=552000, episode_reward=703.22 +/- 0.00\n",
            "Episode length: 1677.00 +/- 0.00\n",
            "  47| 499|update         |$1021080  |$2414.54  |93.46%    \n",
            "  47| 999|update         |$1036462  |$4763.17  |92.14%    \n",
            "  47|1499|update         |$1054214  |$7610.39  |99.27%    \n",
            "  47|1999|update         |$1065569  |$9925.85  |92.20%    \n",
            "  47|2417|Last Date      |$1067690  |$67690.63 |85.48%    \n",
            "Eval num_timesteps=576000, episode_reward=1473.41 +/- 0.00\n",
            "Episode length: 2418.00 +/- 0.00\n",
            "  49| 499|update         |$1000397  |$2489.95  |99.98%    \n",
            "  49| 999|update         |$1010700  |$1365.30  |92.47%    \n",
            "  49|1499|update         |$1075493  |$7047.80  |82.85%    \n",
            "  49|1744|Last Date      |$1052817  |$52817.25 |78.74%    \n",
            "Eval num_timesteps=600000, episode_reward=770.51 +/- 0.00\n",
            "Episode length: 1745.00 +/- 0.00\n",
            "  51| 499|update         |$1007889  |$3803.54  |96.58%    \n",
            "  51| 999|update         |$1023225  |$4568.56  |90.38%    \n",
            "  51|1468|Last Date      |$1043101  |$43101.68 |76.55%    \n",
            "Eval num_timesteps=624000, episode_reward=547.01 +/- 0.00\n",
            "Episode length: 1469.00 +/- 0.00\n",
            "  53| 499|update         |$1002093  |$2552.22  |99.00%    \n",
            "  53| 999|update         |$1012160  |$4503.03  |90.85%    \n",
            "  53|1499|update         |$1107384  |$5609.46  |68.63%    \n",
            "  53|1623|Last Date      |$1057870  |$57870.97 |62.07%    \n",
            "Eval num_timesteps=648000, episode_reward=669.70 +/- 0.00\n",
            "Episode length: 1624.00 +/- 0.00\n",
            "  55| 499|update         |$1010837  |$1422.07  |95.79%    \n",
            "  55| 999|update         |$1025730  |$5280.08  |90.14%    \n",
            "  55|1499|update         |$1029078  |$7505.22  |99.86%    \n",
            "  55|1999|update         |$1049863  |$9976.81  |92.99%    \n",
            "  55|2424|Last Date      |$1076020  |$76020.42 |80.45%    \n",
            "Eval num_timesteps=672000, episode_reward=1483.54 +/- 0.00\n",
            "Episode length: 2425.00 +/- 0.00\n",
            "  57| 499|update         |$1046552  |$2098.94  |76.03%    \n",
            "  57| 999|update         |$1160653  |$3006.82  |56.29%    \n",
            "  57|1499|update         |$1192331  |$8920.32  |90.84%    \n",
            "  57|1999|update         |$1415002  |$12777.95 |60.51%    \n",
            "  57|2243|Last Date      |$1462528  |$462528.50|47.19%    \n",
            "Eval num_timesteps=696000, episode_reward=1349.71 +/- 0.00\n",
            "Episode length: 2244.00 +/- 0.00\n",
            "  59| 499|update         |$1006314  |$596.28   |87.55%    \n",
            "  59| 999|update         |$1023459  |$4972.30  |99.78%    \n",
            "  59|1499|update         |$1077052  |$6670.56  |79.10%    \n",
            "  59|1929|Last Date      |$1204939  |$204939.66|51.83%    \n",
            "Eval num_timesteps=720000, episode_reward=970.77 +/- 0.00\n",
            "Episode length: 1930.00 +/- 0.00\n",
            "  61| 499|update         |$1009047  |$2958.39  |92.26%    \n",
            "  61| 999|update         |$1031472  |$5847.99  |95.17%    \n",
            "  61|1499|update         |$1058589  |$7168.51  |79.72%    \n",
            "  61|1999|update         |$1360427  |$1443.64  |44.51%    \n",
            "  61|2104|Last Date      |$1322955  |$322955.98|37.07%    \n",
            "Eval num_timesteps=744000, episode_reward=1170.77 +/- 0.00\n",
            "Episode length: 2105.00 +/- 0.00\n",
            "  63| 499|update         |$1018797  |$2856.07  |96.01%    \n",
            "  63| 999|update         |$1018884  |$5268.62  |94.41%    \n",
            "  63|1499|update         |$1189165  |$6129.70  |63.63%    \n",
            "  63|1782|Last Date      |$1269207  |$269207.58|43.56%    \n",
            "Eval num_timesteps=768000, episode_reward=847.28 +/- 0.00\n",
            "Episode length: 1783.00 +/- 0.00\n",
            "  65| 499|update         |$1016029  |$2150.04  |95.91%    \n",
            "  65| 999|update         |$1021448  |$5029.51  |99.59%    \n",
            "  65|1499|update         |$1097781  |$11959.67 |73.87%    \n",
            "  65|1904|Last Date      |$1312848  |$312848.62|44.81%    \n",
            "Eval num_timesteps=792000, episode_reward=968.40 +/- 0.00\n",
            "Episode length: 1905.00 +/- 0.00\n",
            "  67| 499|update         |$986761   |$2626.31  |92.81%    \n",
            "  67| 999|update         |$1079937  |$5767.73  |63.21%    \n",
            "  67|1397|Last Date      |$1326308  |$326308.13|41.21%    \n",
            "Eval num_timesteps=816000, episode_reward=552.81 +/- 0.00\n",
            "Episode length: 1398.00 +/- 0.00\n",
            "  69| 499|update         |$1010799  |$2110.27  |66.59%    \n",
            "  69| 999|update         |$985110   |$3069.45  |80.50%    \n",
            "  69|1499|update         |$1345536  |$29087.18 |37.32%    \n",
            "  69|1686|Last Date      |$1356084  |$356084.30|25.02%    \n",
            "Eval num_timesteps=840000, episode_reward=781.44 +/- 0.00\n",
            "Episode length: 1687.00 +/- 0.00\n",
            "  71| 499|update         |$1001887  |$2478.75  |99.62%    \n",
            "  71| 999|update         |$1015721  |$5502.88  |78.18%    \n",
            "  71|1499|update         |$1344663  |$11568.91 |43.84%    \n",
            "  71|1554|Last Date      |$1260092  |$260092.34|42.55%    \n",
            "Eval num_timesteps=864000, episode_reward=655.36 +/- 0.00\n",
            "Episode length: 1555.00 +/- 0.00\n",
            "  73| 499|update         |$1017424  |$1741.37  |90.12%    \n",
            "  73| 999|update         |$1029219  |$3442.32  |91.57%    \n",
            "  73|1499|update         |$1033585  |$8256.01  |93.77%    \n",
            "  73|1999|update         |$1138374  |$9227.50  |71.93%    \n",
            "  73|2063|Last Date      |$1115599  |$115599.18|71.13%    \n",
            "Eval num_timesteps=888000, episode_reward=1086.60 +/- 0.00\n",
            "Episode length: 2064.00 +/- 0.00\n",
            "  75| 499|update         |$999177   |$2731.95  |98.21%    \n",
            "  75| 999|update         |$1031764  |$5378.38  |90.41%    \n",
            "  75|1290|Last Date      |$1050378  |$50378.14 |79.39%    \n",
            "Eval num_timesteps=912000, episode_reward=425.78 +/- 0.00\n",
            "Episode length: 1291.00 +/- 0.00\n",
            "  77| 499|update         |$1257583  |$8938.99  |39.54%    \n",
            "  77| 999|update         |$1735833  |$20042.14 |17.57%    \n",
            "  77|1499|update         |$2697728  |$3108.57  |27.70%    \n",
            "  77|1999|update         |$3506223  |$15511.43 |46.77%    \n",
            "  77|2142|Last Date      |$3334183  |$2334183.82|53.92%    \n",
            "Eval num_timesteps=936000, episode_reward=1613.34 +/- 0.00\n",
            "Episode length: 2143.00 +/- 0.00\n",
            "New best mean reward!\n",
            "  79| 499|update         |$1069345  |$3054.93  |50.48%    \n",
            "  79| 999|update         |$2006917  |$-42247.74|12.42%    \n",
            "  79|1499|update         |$2911680  |$-10541.29|10.30%    \n",
            "  79|1999|update         |$3936810  |$-10750.61|26.50%    \n",
            "  79|2402|Last Date      |$4384359  |$3384359.05|38.56%    \n",
            "Eval num_timesteps=960000, episode_reward=2118.67 +/- 0.00\n",
            "Episode length: 2403.00 +/- 0.00\n",
            "New best mean reward!\n",
            "  81| 499|update         |$1058348  |$6483.01  |71.04%    \n",
            "  81| 999|update         |$1201671  |$10283.27 |81.82%    \n",
            "  81|1499|update         |$1416633  |$-12402.84|71.64%    \n",
            "  81|1722|Last Date      |$1385601  |$385601.43|67.12%    \n",
            "Eval num_timesteps=984000, episode_reward=818.01 +/- 0.00\n",
            "Episode length: 1723.00 +/- 0.00\n"
          ],
          "name": "stdout"
        },
        {
          "output_type": "execute_result",
          "data": {
            "text/plain": [
              "<stable_baselines3.ppo.ppo.PPO at 0x7f5c1eb4ded0>"
            ]
          },
          "metadata": {
            "tags": []
          },
          "execution_count": 32
        }
      ]
    },
    {
      "cell_type": "code",
      "metadata": {
        "id": "8XjzBqSzTXHg"
      },
      "source": [
        "model.save(\"quicksave_ppo_dow_1_17.model\")"
      ],
      "execution_count": 33,
      "outputs": []
    },
    {
      "cell_type": "code",
      "metadata": {
        "id": "4RfUHZN2TixS"
      },
      "source": [
        "data_turbulence = processed[(processed.date<'2019-01-01') & (processed.date>='2009-01-01')]\n",
        "insample_turbulence = data_turbulence.drop_duplicates(subset=['date'])"
      ],
      "execution_count": 34,
      "outputs": []
    },
    {
      "cell_type": "code",
      "metadata": {
        "id": "ktw1D-4jTlnK",
        "colab": {
          "base_uri": "https://localhost:8080/"
        },
        "outputId": "52501dbc-2a59-4d3d-d9e6-7520253d5f87"
      },
      "source": [
        "insample_turbulence.turbulence.describe()"
      ],
      "execution_count": 35,
      "outputs": [
        {
          "output_type": "execute_result",
          "data": {
            "text/plain": [
              "count    2516.000000\n",
              "mean       33.278197\n",
              "std        33.999880\n",
              "min         0.000000\n",
              "25%        15.233636\n",
              "50%        25.166906\n",
              "75%        39.289978\n",
              "max       332.849950\n",
              "Name: turbulence, dtype: float64"
            ]
          },
          "metadata": {
            "tags": []
          },
          "execution_count": 35
        }
      ]
    },
    {
      "cell_type": "code",
      "metadata": {
        "id": "LEn-ZHZfTn7W"
      },
      "source": [
        "turbulence_threshold = np.quantile(insample_turbulence.turbulence.values,1)"
      ],
      "execution_count": 36,
      "outputs": []
    },
    {
      "cell_type": "code",
      "metadata": {
        "id": "XS-O85vNTqPz",
        "colab": {
          "base_uri": "https://localhost:8080/"
        },
        "outputId": "8eaa2202-6847-4aa7-f886-c7272d048912"
      },
      "source": [
        "turbulence_threshold\n"
      ],
      "execution_count": 37,
      "outputs": [
        {
          "output_type": "execute_result",
          "data": {
            "text/plain": [
              "332.8499496926432"
            ]
          },
          "metadata": {
            "tags": []
          },
          "execution_count": 37
        }
      ]
    },
    {
      "cell_type": "code",
      "metadata": {
        "id": "qH7IKR0uTsyS"
      },
      "source": [
        "trade = data_split(processed, '2019-01-01','2021-01-01')\n",
        "env_kwargs = {\n",
        "    \"hmax\": 5000, \n",
        "    \"daily_reward\": 5,\n",
        "    \"out_of_cash_penalty\": 0, \n",
        "    \"cash_penalty_proportion\": 0.1,\n",
        "    \"daily_information_cols\": information_cols, \n",
        "    \"print_verbosity\": 50, \n",
        "    \"random_start\": False,\n",
        "    \"cache_indicator_data\": False\n",
        "    \n",
        "}\n",
        "e_trade_gym = StockTradingEnvV2(df = trade,**env_kwargs)\n",
        "env_trade, obs_trade = e_trade_gym.get_sb_env()\n"
      ],
      "execution_count": 38,
      "outputs": []
    },
    {
      "cell_type": "code",
      "metadata": {
        "id": "Wxb0D-mPTwJ6",
        "colab": {
          "base_uri": "https://localhost:8080/"
        },
        "outputId": "7bf2d0ef-2cd9-4223-8d1e-4394efc1bf25"
      },
      "source": [
        "print(len(e_trade_gym.dates))"
      ],
      "execution_count": 39,
      "outputs": [
        {
          "output_type": "stream",
          "text": [
            "505\n"
          ],
          "name": "stdout"
        }
      ]
    },
    {
      "cell_type": "code",
      "metadata": {
        "id": "s401rqMOTz5m",
        "colab": {
          "base_uri": "https://localhost:8080/",
          "height": 198
        },
        "outputId": "9397af62-4017-4359-d98a-fc5b3aa687c0"
      },
      "source": [
        "df_account_value, df_actions = DRLAgent.DRL_prediction(model=model,\n",
        "                        test_data = trade,\n",
        "                        test_env = env_trade,\n",
        "                        test_obs = obs_trade)"
      ],
      "execution_count": 40,
      "outputs": [
        {
          "output_type": "error",
          "ename": "TypeError",
          "evalue": "ignored",
          "traceback": [
            "\u001b[0;31m---------------------------------------------------------------------------\u001b[0m",
            "\u001b[0;31mTypeError\u001b[0m                                 Traceback (most recent call last)",
            "\u001b[0;32m<ipython-input-40-6c32c5ff72f3>\u001b[0m in \u001b[0;36m<module>\u001b[0;34m\u001b[0m\n\u001b[1;32m      2\u001b[0m                         \u001b[0mtest_data\u001b[0m \u001b[0;34m=\u001b[0m \u001b[0mtrade\u001b[0m\u001b[0;34m,\u001b[0m\u001b[0;34m\u001b[0m\u001b[0;34m\u001b[0m\u001b[0m\n\u001b[1;32m      3\u001b[0m                         \u001b[0mtest_env\u001b[0m \u001b[0;34m=\u001b[0m \u001b[0menv_trade\u001b[0m\u001b[0;34m,\u001b[0m\u001b[0;34m\u001b[0m\u001b[0;34m\u001b[0m\u001b[0m\n\u001b[0;32m----> 4\u001b[0;31m                         test_obs = obs_trade)\n\u001b[0m",
            "\u001b[0;31mTypeError\u001b[0m: DRL_prediction() got an unexpected keyword argument 'test_data'"
          ]
        }
      ]
    },
    {
      "cell_type": "code",
      "metadata": {
        "id": "3wGZFUpdT1ne"
      },
      "source": [
        "df_account_value.shape\n"
      ],
      "execution_count": null,
      "outputs": []
    },
    {
      "cell_type": "code",
      "metadata": {
        "id": "Iy4YgZTqT4jW"
      },
      "source": [
        "df_account_value.head(50)\n"
      ],
      "execution_count": null,
      "outputs": []
    },
    {
      "cell_type": "code",
      "metadata": {
        "id": "zao4--n1T7n9"
      },
      "source": [
        "print(\"==============Get Backtest Results===========\")\n",
        "now = datetime.datetime.now().strftime('%Y%m%d-%Hh%M')\n",
        "\n",
        "perf_stats_all = BackTestStats(account_value=df_account_value, value_col_name = 'total_assets')\n",
        "perf_stats_all = pd.DataFrame(perf_stats_all)\n",
        "perf_stats_all.to_csv(\"./\"+config.RESULTS_DIR+\"/perf_stats_all_\"+now+'.csv')\n"
      ],
      "execution_count": null,
      "outputs": []
    },
    {
      "cell_type": "code",
      "metadata": {
        "id": "rCGF9bz8UAPx"
      },
      "source": [
        "print(\"==============Compare to DJIA===========\")\n",
        "%matplotlib inline\n",
        "# S&P 500: ^GSPC\n",
        "# Dow Jones Index: ^DJI\n",
        "# NASDAQ 100: ^NDX\n",
        "BackTestPlot(df_account_value, \n",
        "             baseline_ticker = '^DJI', \n",
        "             baseline_start = '2019-01-01',\n",
        "             baseline_end = '2021-01-01', value_col_name = 'total_assets')"
      ],
      "execution_count": null,
      "outputs": []
    },
    {
      "cell_type": "code",
      "metadata": {
        "id": "npoFZBTwUDzw"
      },
      "source": [
        "print(\"==============Get Baseline Stats===========\")\n",
        "baesline_perf_stats=BaselineStats('^DJI',\n",
        "                                  baseline_start = '2019-01-01',\n",
        "                                  baseline_end = '2021-01-01')\n"
      ],
      "execution_count": null,
      "outputs": []
    }
  ]
}